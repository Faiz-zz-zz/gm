{
 "cells": [
  {
   "cell_type": "code",
   "execution_count": 4,
   "metadata": {
    "collapsed": true
   },
   "outputs": [],
   "source": [
    "import numpy as np\n",
    "import scipy.io as sio"
   ]
  },
  {
   "cell_type": "code",
   "execution_count": 5,
   "metadata": {
    "collapsed": true
   },
   "outputs": [],
   "source": [
    "time_pos = sio.loadmat(\"drunkproblemX.mat\")[\"X\"][0]\n",
    "GRID_SIZE = 50"
   ]
  },
  {
   "cell_type": "code",
   "execution_count": 6,
   "metadata": {
    "collapsed": true
   },
   "outputs": [],
   "source": [
    "# set probability for initial pos\n",
    "occupied_positions = sum(sum(time_pos[0]))\n",
    "prior = (1/occupied_positions) * time_pos[0]"
   ]
  },
  {
   "cell_type": "code",
   "execution_count": 7,
   "metadata": {
    "collapsed": true
   },
   "outputs": [],
   "source": [
    "probabilities = [prior]\n",
    "\n",
    "for t in range(1, 100):\n",
    "  before = time_pos[t - 1]\n",
    "  curr_prob = np.zeros((GRID_SIZE, GRID_SIZE))\n",
    "  \n",
    "  for y in range(50):\n",
    "    for x in range(50):\n",
    "      if before[x][y]:\n",
    "        counter = 0\n",
    "        for x_, y_ in [(-2, -2), (-2, 2), (2, -2), (2, 2)]:\n",
    "          if 0 <= x + x_ < 50 and 0 <= y + y_ < 50:\n",
    "            curr_prob[x + x_][y + y_] += (1/4 * prior[x][y])\n",
    "          else:\n",
    "            counter += 1\n",
    "        curr_prob += (prior[x][y] * 1/4 * counter * GRID_SIZE**(-2))\n",
    "  prior = curr_prob * time_pos[t]\n",
    "  probabilities.append(prior)"
   ]
  },
  {
   "cell_type": "code",
   "execution_count": 8,
   "metadata": {
    "collapsed": false
   },
   "outputs": [
    {
     "name": "stdout",
     "output_type": "stream",
     "text": [
      "[(39, 28), (41, 30), (39, 32), (37, 30), (39, 28), (41, 30), (43, 32), (45, 30), (47, 28), (45, 26), (43, 24), (41, 22), (43, 20), (45, 22), (43, 24), (41, 22), (39, 24), (37, 22), (39, 24), (37, 26), (39, 28), (37, 26), (35, 28), (37, 26), (35, 24), (37, 22), (35, 20), (37, 22), (39, 24), (41, 26), (39, 28), (41, 26), (43, 24), (41, 26), (39, 28), (37, 30), (39, 32), (41, 30), (43, 32), (41, 30), (43, 32), (41, 30), (43, 32), (41, 34), (39, 32), (37, 34), (39, 32), (41, 34), (39, 32), (41, 30), (39, 28), (41, 30), (39, 32), (41, 34), (43, 36), (41, 38), (39, 40), (37, 42), (39, 40), (41, 42), (39, 44), (37, 42), (35, 40), (37, 38), (35, 36), (33, 34), (31, 32), (33, 34), (35, 36), (37, 38), (35, 36), (37, 38), (35, 40), (33, 38), (31, 36), (33, 38), (31, 40), (29, 42), (31, 40), (29, 42), (31, 40), (33, 42), (31, 44), (29, 46), (27, 48), (25, 46), (27, 48), (25, 46), (27, 44), (25, 46), (27, 48), (29, 46), (27, 48), (25, 46), (27, 48), (25, 46), (23, 44), (21, 46), (19, 44), (21, 46)]\n"
     ]
    }
   ],
   "source": [
    "positions = [(np.argmax(prior) // 50, np.argmax(prior) % 50)]\n",
    "for prob in reversed(probabilities[:-1]):\n",
    "  x, y = positions[-1]\n",
    "  arg_max_x, arg_max_y = np.argmax(prob) // 50, np.argmax(prob) % 50\n",
    "  max_prob = (0, None)\n",
    "  for x_, y_ in [(-2, -2), (-2, 2), (2, -2), (2, 2)]:\n",
    "    if 0 <= x + x_ < 50 and 0 <= y + y_ < 50:\n",
    "      max_prob = max((max_prob, (prob[x + x_][y + y_], (x+x_, y+y_))), key=lambda k: k[0])\n",
    "      if x + x_ == arg_max_x and y + y_ == arg_max_y:\n",
    "        positions.append((arg_max_x, arg_max_y))\n",
    "        break\n",
    "  else:\n",
    "    for x_, y_ in [(-2, -2), (-2, 2), (2, -2), (2, 2)]:\n",
    "      if not (0 <= arg_max_x + x_ < 50 and 0 <= arg_max_y + y_ < 50):\n",
    "        positions.append((arg_max_x, arg_max_y))\n",
    "        break\n",
    "    else:\n",
    "      positions.append(max_prob[1])\n",
    "positions = list(map(lambda k: (k[0] + 1, k[1] + 1), positions))\n",
    "print(list(reversed(positions)))"
   ]
  },
  {
   "cell_type": "code",
   "execution_count": null,
   "metadata": {
    "collapsed": true
   },
   "outputs": [],
   "source": []
  }
 ],
 "metadata": {
  "kernelspec": {
   "display_name": "Python 3",
   "language": "python",
   "name": "python3"
  },
  "language_info": {
   "codemirror_mode": {
    "name": "ipython",
    "version": 3
   },
   "file_extension": ".py",
   "mimetype": "text/x-python",
   "name": "python",
   "nbconvert_exporter": "python",
   "pygments_lexer": "ipython3",
   "version": "3.5.1"
  }
 },
 "nbformat": 4,
 "nbformat_minor": 0
}
