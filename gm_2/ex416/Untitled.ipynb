{
 "cells": [
  {
   "cell_type": "code",
   "execution_count": 1,
   "metadata": {
    "collapsed": true
   },
   "outputs": [],
   "source": [
    "import numpy as np\n",
    "from matplotlib import pyplot as plt\n",
    "import csv"
   ]
  },
  {
   "cell_type": "code",
   "execution_count": 2,
   "metadata": {
    "collapsed": true
   },
   "outputs": [],
   "source": [
    "rows    = 321\n",
    "columns = 265\n",
    "pixels  = rows * columns\n",
    "W       = 10"
   ]
  },
  {
   "cell_type": "code",
   "execution_count": 3,
   "metadata": {
    "collapsed": true
   },
   "outputs": [],
   "source": [
    "def get_image_data():\n",
    "    \"\"\" Returns the vector representation of the image. \"\"\"\n",
    "    with open(\"img.csv\") as f:\n",
    "        reader = csv.reader(f, delimiter=',')\n",
    "        data = np.zeros(pixels, dtype=bool)\n",
    "        for i, row in enumerate(reader):\n",
    "            for j, value in enumerate(row):\n",
    "                data[i * columns + j] = True if value == \"1\" else False\n",
    "        return data\n",
    "\n",
    "def get_pairs():\n",
    "    \"\"\" Returns the neighbouring pairs of pixels. \"\"\"\n",
    "    pairs = set()\n",
    "    for i in range(pixels):\n",
    "        for j in get_neighbours(i):\n",
    "            if (i, j) not in pairs and (j, i) not in pairs:\n",
    "                pairs.add((i, j))\n",
    "    return pairs\n",
    "\n",
    "def get_neighbours(x, include_secondary=False):\n",
    "    \"\"\" Returns the indices of the pixels neighbouring the pixel at index x.\n",
    "    The neighbours are considered to be the pixel which are not just above,\n",
    "    below, to the left and right, but also the four ones in the corners. \"\"\"\n",
    "    primary, secondary = set(), set()\n",
    "    if x == 0:\n",
    "        # Top left corner\n",
    "        primary = {1, columns}\n",
    "        secondary = {1, columns, columns + 1}\n",
    "    elif x == columns - 1:\n",
    "        # Top right corner\n",
    "        primary = {x - 1, x + columns}\n",
    "        secondary = {x + columns - 1}\n",
    "    elif x == pixels - columns:\n",
    "        # Bottom left\n",
    "        primary = {x + 1, x - columns}\n",
    "        secondary = {x - columns + 1}\n",
    "    elif x == pixels - 1:\n",
    "        # Bottom right\n",
    "        primary = {x - 1, x - columns}\n",
    "        secondary = {x - columns - 1}\n",
    "    elif x < columns:\n",
    "        # Top row\n",
    "        primary = {x - 1, x + 1, x + columns}\n",
    "        secondary = {x + columns - 1, x + columns + 1}\n",
    "    elif x > pixels - columns:\n",
    "        # Bottom row\n",
    "        primary = {x - 1, x + 1, x - columns}\n",
    "        secondary = {x - columns - 1, x - columns + 1}\n",
    "    elif x % columns == 0:\n",
    "        primary = {x - columns, x + columns, x + 1}\n",
    "        secondary = {x + columns + 1, x - columns + 1}\n",
    "    elif (x + 1) % columns == 0:\n",
    "        # right column\n",
    "        primary = {x - columns, x + columns, x - 1}\n",
    "        secondary = {x + columns - 1, x - columns - 1}\n",
    "    else:\n",
    "        primary = {x - columns, x + columns, x - 1, x + 1}\n",
    "        secondary = {x + columns - 1, x + columns + 1, x - columns - 1, x - columns + 1}\n",
    "    if not include_secondary:\n",
    "        return primary\n",
    "    else:\n",
    "        return primary.union(secondary)"
   ]
  },
  {
   "cell_type": "code",
   "execution_count": 4,
   "metadata": {
    "collapsed": true
   },
   "outputs": [],
   "source": [
    "noisy_img = get_image_data()\n",
    "clean_img = get_image_data()\n",
    "\n",
    "def plot_images():\n",
    "    fig = plt.figure(figsize=(12, 12))\n",
    "    fig.add_subplot(1, 2, 1)\n",
    "    img = noisy_img.reshape((rows, columns))\n",
    "    img = plt.imshow(img, cmap=\"gist_gray\")\n",
    "    plt.axis('off')\n",
    "    fig.add_subplot(1, 2, 2)\n",
    "    img = clean_img.reshape((rows, columns))\n",
    "    img = plt.imshow(img, cmap=\"gist_gray\")\n",
    "    plt.axis('off')\n",
    "    plt.show()"
   ]
  },
  {
   "cell_type": "code",
   "execution_count": 5,
   "metadata": {
    "collapsed": true
   },
   "outputs": [],
   "source": [
    "def obj():\n",
    "    \"\"\" Returns the value of the objective function for the current state\n",
    "    of the noisy image and clean image. \"\"\"\n",
    "    obj = 0\n",
    "    for i in range(pixels):\n",
    "        obj += (2 * noisy_img[i] - 1) * clean_img[i]\n",
    "    for pair in get_pairs():\n",
    "        obj += W if clean_img[pair[0]] == clean_img[pair[1]] else 0\n",
    "    return obj\n",
    "\n",
    "def updated_obj(obj, i):\n",
    "    \"\"\" Returns the value of the objective function should the i-th pixel be the\n",
    "    other value given the current value of the objective function. This is achieved\n",
    "    by subtracting the contribution of pixel i for the value it has at first, flips\n",
    "    the value and adds the contribution back.\n",
    "        \n",
    "    This is evidently better since when a pixel flips there is no need to recompute\n",
    "    the whole objective, but only the difference that flipping a single pixel\n",
    "    creates. \"\"\"\n",
    "    obj -= (2 * noisy_img[i] - 1) * clean_img[i]\n",
    "    obj += (2 * noisy_img[i] - 1) * (not clean_img[i])\n",
    "    for j in get_neighbours(i):\n",
    "        obj -= W if clean_img[i] == clean_img[j] else 0\n",
    "        obj += W if (not clean_img[i]) == clean_img[j] else 0\n",
    "    return obj    "
   ]
  },
  {
   "cell_type": "code",
   "execution_count": 6,
   "metadata": {
    "collapsed": true
   },
   "outputs": [],
   "source": [
    "def clean():\n",
    "    \"\"\" Cleanes an image by repeadetly starting a loop for each pixel (every time)\n",
    "    in a random order and flipping each pixel to determine whether it improved the\n",
    "    objective. It returns the objective once it has converged. \"\"\"\n",
    "    objective = obj()\n",
    "    values = []\n",
    "    while True:\n",
    "        values.append(objective)\n",
    "        r = np.arange(pixels - 1)\n",
    "        np.random.shuffle(r)\n",
    "        round_objective = objective\n",
    "        for i in r:\n",
    "            new_objective = updated_obj(round_objective, i)\n",
    "            if new_objective > round_objective:\n",
    "                round_objective = new_objective\n",
    "                clean_img[i] = not clean_img[i]\n",
    "        plot_images()\n",
    "        if objective == round_objective:\n",
    "            return np.array(values)\n",
    "        else:\n",
    "            objective = round_objective\n",
    "            print(objective)"
   ]
  },
  {
   "cell_type": "code",
   "execution_count": 7,
   "metadata": {
    "collapsed": false
   },
   "outputs": [
    {
     "name": "stdout",
     "output_type": "stream",
     "text": [
      "1579894\n",
      "1638219\n",
      "1654778\n",
      "1658934\n",
      "1660684\n",
      "1661407\n",
      "1661737\n",
      "1661854\n",
      "1661931\n",
      "1661970\n"
     ]
    }
   ],
   "source": [
    "values = clean()\n",
    "plt.plot(values)\n",
    "plt.show()"
   ]
  },
  {
   "cell_type": "code",
   "execution_count": null,
   "metadata": {
    "collapsed": true
   },
   "outputs": [],
   "source": []
  }
 ],
 "metadata": {
  "kernelspec": {
   "display_name": "Python 3",
   "language": "python",
   "name": "python3"
  },
  "language_info": {
   "codemirror_mode": {
    "name": "ipython",
    "version": 3
   },
   "file_extension": ".py",
   "mimetype": "text/x-python",
   "name": "python",
   "nbconvert_exporter": "python",
   "pygments_lexer": "ipython3",
   "version": "3.5.1"
  }
 },
 "nbformat": 4,
 "nbformat_minor": 2
}
