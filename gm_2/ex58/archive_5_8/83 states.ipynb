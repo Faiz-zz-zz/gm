{
 "cells": [
  {
   "cell_type": "code",
   "execution_count": 21,
   "metadata": {},
   "outputs": [],
   "source": [
    "import numpy as np"
   ]
  },
  {
   "cell_type": "markdown",
   "metadata": {},
   "source": [
    "Some first names and surnames are given, based on the English (lowercase) alphabet."
   ]
  },
  {
   "cell_type": "code",
   "execution_count": 22,
   "metadata": {},
   "outputs": [],
   "source": [
    "fnames = \"david\", \"anton\", \"fred\", \"jim\", \"barry\"\n",
    "snames = \"barber\", \"ilsung\", \"fox\", \"chain\", \"fitzwilliam\", \"quinceadams\", \"grafvonunterhosen\""
   ]
  },
  {
   "cell_type": "code",
   "execution_count": 23,
   "metadata": {},
   "outputs": [],
   "source": [
    "alphabet = \"a\", \"b\", \"c\", \"d\", \"e\", \"f\", \"g\", \"h\", \"i\", \"j\", \"k\", \"l\", \"m\", \"n\", \"o\", \"p\", \"q\", \"r\", \"s\", \"t\", \"u\", \"v\", \"w\", \"x\", \"y\", \"z\""
   ]
  },
  {
   "cell_type": "code",
   "execution_count": 24,
   "metadata": {},
   "outputs": [],
   "source": [
    "sequence = tuple((open(\"sequence.txt\", \"r\")).read())[0:300]\n",
    "T = len(sequence)\n",
    "# M = 1000\n",
    "# sequence = []\n",
    "# i = 0\n",
    "# s = \"r0\"\n",
    "# while i < M:\n",
    "#     if s == \"r0\":\n",
    "#         sequence.append(alphabet[np.random.randint(0, len(alphabet))])\n",
    "#         print(\" \", end=\"\")\n",
    "#         if np.random.uniform(0, 1) < 0.2:\n",
    "#             s = \"f\"\n",
    "#         i += 1\n",
    "#     elif s == \"f\":\n",
    "#         name = fnames[np.random.randint(0, len(fnames))]\n",
    "#         print(name, end=\"\")\n",
    "#         sequence += list(name)\n",
    "#         i += len(name)\n",
    "#         s = \"r1\"\n",
    "#     elif s == \"r1\":\n",
    "#         sequence.append(alphabet[np.random.randint(0, len(alphabet))])\n",
    "#         print(\" \", end=\"\")\n",
    "#         if np.random.uniform(0, 1) < 0.2:\n",
    "#             s = \"s\"\n",
    "#         i += 1\n",
    "#     elif s == \"s\":\n",
    "#         name = snames[np.random.randint(0, len(snames))]\n",
    "#         print(name, end=\"\")\n",
    "#         sequence += list(name)\n",
    "#         i += len(name)\n",
    "#         s = \"r0\"\n",
    "\n",
    "# clean_sequence = sequence[:M]\n",
    "# noisy_sequence = list(clean_sequence)\n",
    "# for m in range(M):\n",
    "#     if np.random.uniform(0, 1) < 0.7:\n",
    "#         rc = sequence[m]\n",
    "#         nc = alphabet[np.random.randint(0, len(alphabet))]\n",
    "#         while nc == rc:\n",
    "#             nc = alphabet[np.random.randint(0, len(alphabet))]\n",
    "#         noisy_sequence[m] = nc\n",
    "# sequence = list(noisy_sequence)\n",
    "# T = len(sequence)"
   ]
  },
  {
   "cell_type": "code",
   "execution_count": 25,
   "metadata": {},
   "outputs": [],
   "source": [
    "states_to_char = {}\n",
    "states_to_char[\"r-0\"] = \" \"\n",
    "states_to_char[\"r-1\"] = \" \"\n",
    "states = [\"r-0\"]\n",
    "for i, name in enumerate(fnames):\n",
    "    for j, char in enumerate(name):\n",
    "        state = \"f-{}-{}\".format(i, j)\n",
    "        states_to_char[state] = char\n",
    "        states.append(state)\n",
    "states += [\"r-1\"]\n",
    "for i, name in enumerate(snames):\n",
    "    for j, char in enumerate(name):\n",
    "        state = \"s-{}-{}\".format(i, j)\n",
    "        states_to_char[state] = char\n",
    "        states.append(state)"
   ]
  },
  {
   "cell_type": "markdown",
   "metadata": {},
   "source": [
    "The transitions operate as follows:\n",
    "* A state of either random character generator switches to another state of the same random character generator with probability $0.8 \\times \\frac{1}{26}$.\n",
    "* A state of either random character generator switches to the state of the first character of a name with probability $0.2 \\times \\frac{1}{|\\mathcal{N}|}$, where $\\mathcal{N}$ is the set of names (first names for the first random generator and surname for the second generator)\n",
    "* A state of a character of a name switches to the state of the next character for that name with probability $1.0$, unless it's the last character in which case it would switch to the state of a character of the following random generator with probability $\\frac{1}{26}$"
   ]
  },
  {
   "cell_type": "code",
   "execution_count": 26,
   "metadata": {},
   "outputs": [],
   "source": [
    "A = {}\n",
    "for a in states:\n",
    "    A[a] = {}\n",
    "    for b in states:\n",
    "        if a == \"r-0\":\n",
    "            if b == \"r-0\":\n",
    "                A[a][b] = 0.8\n",
    "            elif b.startswith(\"f-\") and b.endswith(\"-0\"):\n",
    "                A[a][b] = 0.2 / len(fnames)\n",
    "            else:\n",
    "                A[a][b] = 0.0\n",
    "        elif a == \"r-1\":\n",
    "            if b == \"r-1\":\n",
    "                A[a][b] = 0.8\n",
    "            elif b.startswith(\"s-\") and b.endswith(\"-0\"):\n",
    "                A[a][b] = 0.2 / len(snames)\n",
    "            else:\n",
    "                A[a][b] = 0.0\n",
    "        elif a.startswith(\"f-\"):\n",
    "            name_i, char_i = int((a.split(\"-\"))[1]), int((a.split(\"-\"))[2])\n",
    "            next_name_state = \"f-{}-{}\".format(str(name_i), str(char_i + 1))\n",
    "            if next_name_state in states:\n",
    "                A[a][b] = 1 if b == next_name_state else 0\n",
    "            else:\n",
    "                A[a][b] = 1 if b.startswith(\"r-1\") else 0\n",
    "        elif a.startswith(\"s-\"):\n",
    "            name_i, char_i = int((a.split(\"-\"))[1]), int((a.split(\"-\"))[2])\n",
    "            next_name_state = \"s-{}-{}\".format(str(name_i), str(char_i + 1))\n",
    "            if next_name_state in states:\n",
    "                A[a][b] = 1 if b == next_name_state else 0\n",
    "            else:\n",
    "                A[a][b] = 1 if b.startswith(\"r-0\") else 0"
   ]
  },
  {
   "cell_type": "code",
   "execution_count": 27,
   "metadata": {},
   "outputs": [],
   "source": [
    "B = {}\n",
    "for state in states:\n",
    "    B[state] = {}\n",
    "    for char in alphabet:\n",
    "        if state.startswith(\"r-\"):\n",
    "            B[state][char] = 1 / 26\n",
    "        else:\n",
    "            B[state][char] = (char == states_to_char[state]) * 0.3 + (char != states_to_char[state]) * 0.7 / 25"
   ]
  },
  {
   "cell_type": "code",
   "execution_count": 28,
   "metadata": {},
   "outputs": [],
   "source": [
    "I = {}\n",
    "for state in states:\n",
    "    I[state] = 1 if state == \"r-0\" else 0"
   ]
  },
  {
   "cell_type": "code",
   "execution_count": 29,
   "metadata": {},
   "outputs": [],
   "source": [
    "from decimal import Decimal\n",
    "\n",
    "def viterbi():\n",
    "    t1, t2 = {}, {}\n",
    "    for i, state in enumerate(states):\n",
    "        t1[state], t2[state] = [], []\n",
    "        t1[state] += [Decimal(I[state] * B[state][sequence[0]])]\n",
    "        t2[state] += [Decimal(0)]\n",
    "    for i_, o in enumerate(sequence[1:]):\n",
    "        i = i_ + 1\n",
    "        for j, state in enumerate(states):\n",
    "            maxk, argmaxk = 0, 0\n",
    "            for k, s in enumerate(states):\n",
    "                x = t1[s][i - 1] * Decimal(A[s][state]) * Decimal(B[state][sequence[i]])\n",
    "                if x > maxk:\n",
    "                    maxk = x\n",
    "                    argmaxk = s\n",
    "            t1[state] += [maxk]\n",
    "            t2[state] += [argmaxk]\n",
    "    z_max, z_argmax = 0, 0\n",
    "    for i, state in enumerate(states):\n",
    "        if t1[state][T - 1] > z_max:\n",
    "            z_max = t1[state][T - 1]\n",
    "            z_argmax = state\n",
    "    z = [z_argmax]\n",
    "    x = [states_to_char[z_argmax]]\n",
    "    for t in range(T - 1, 0, -1):\n",
    "        v = t2[z[0]][t]\n",
    "        z.insert(0, v)\n",
    "        x.insert(0, states_to_char[v])\n",
    "    return x\n",
    "\n",
    "v = viterbi()"
   ]
  },
  {
   "cell_type": "code",
   "execution_count": 30,
   "metadata": {},
   "outputs": [
    {
     "data": {
      "text/plain": [
       "'       david        quinceadams    david     quinceadams      david          fitzwilliam                           jim fitzwilliam     barry            quinceadams     jim      fitzwilliam               barry  fitzwilliam                 anton    barber       david       chain     anton    ilsung   '"
      ]
     },
     "execution_count": 30,
     "metadata": {},
     "output_type": "execute_result"
    }
   ],
   "source": [
    "''.join(v)"
   ]
  },
  {
   "cell_type": "code",
   "execution_count": 11,
   "metadata": {},
   "outputs": [
    {
     "data": {
      "text/plain": [
       "0.5329341317365269"
      ]
     },
     "execution_count": 11,
     "metadata": {},
     "output_type": "execute_result"
    }
   ],
   "source": [
    "h, t = 0, 0\n",
    "for i, char in enumerate(v):\n",
    "    if char != \" \":\n",
    "        t += 1\n",
    "        h += 1 if clean_sequence[i] == char else 0\n",
    "h / t"
   ]
  },
  {
   "cell_type": "code",
   "execution_count": 12,
   "metadata": {},
   "outputs": [],
   "source": [
    "clean_sequence = ''.join(v)"
   ]
  },
  {
   "cell_type": "code",
   "execution_count": 13,
   "metadata": {},
   "outputs": [],
   "source": [
    "elements = clean_sequence.split(\" \")\n",
    "names = []\n",
    "for element in elements:\n",
    "    if element != \"\":\n",
    "        names.append(element)"
   ]
  },
  {
   "cell_type": "code",
   "execution_count": 14,
   "metadata": {},
   "outputs": [
    {
     "name": "stdout",
     "output_type": "stream",
     "text": [
      "david: 6\n",
      "anton: 6\n",
      "fred: 9\n",
      "jim: 6\n",
      "barry: 7\n",
      "barber: 3\n",
      "ilsung: 1\n",
      "fox: 2\n",
      "chain: 5\n",
      "fitzwilliam: 7\n",
      "quinceadams: 9\n",
      "grafvonunterhosen: 7\n"
     ]
    }
   ],
   "source": [
    "for name in fnames + snames:\n",
    "    n = clean_sequence.count(name)\n",
    "    print(\"{}: {}\".format(name, n))"
   ]
  },
  {
   "cell_type": "code",
   "execution_count": 15,
   "metadata": {},
   "outputs": [
    {
     "data": {
      "text/plain": [
       "{'david': {'quinceadams': 3,\n",
       "  'fitzwilliam': 1,\n",
       "  'grafvonunterhosen': 1,\n",
       "  'barber': 1},\n",
       " 'barry': {'grafvonunterhosen': 2,\n",
       "  'fitzwilliam': 1,\n",
       "  'fox': 1,\n",
       "  'quinceadams': 1,\n",
       "  'barber': 2},\n",
       " 'anton': {'chain': 1, 'quinceadams': 4, 'grafvonunterhosen': 1},\n",
       " 'jim': {'grafvonunterhosen': 1,\n",
       "  'fitzwilliam': 1,\n",
       "  'ilsung': 1,\n",
       "  'fox': 1,\n",
       "  'quinceadams': 1,\n",
       "  'chain': 1},\n",
       " 'fred': {'fitzwilliam': 4, 'chain': 3, 'grafvonunterhosen': 2}}"
      ]
     },
     "execution_count": 15,
     "metadata": {},
     "output_type": "execute_result"
    }
   ],
   "source": [
    "occ = {}\n",
    "for i, name in enumerate(names):\n",
    "    if i % 2 == 1:\n",
    "        first_name = names[i - 1]\n",
    "        surname = names[i]\n",
    "        if first_name not in occ:\n",
    "            occ[first_name] = {}\n",
    "        if surname not in occ[first_name]:\n",
    "            occ[first_name][surname] = 0\n",
    "        occ[first_name][surname] += 1\n",
    "occ\n",
    "    "
   ]
  }
 ],
 "metadata": {
  "kernelspec": {
   "display_name": "Python 3",
   "language": "python",
   "name": "python3"
  },
  "language_info": {
   "codemirror_mode": {
    "name": "ipython",
    "version": 3
   },
   "file_extension": ".py",
   "mimetype": "text/x-python",
   "name": "python",
   "nbconvert_exporter": "python",
   "pygments_lexer": "ipython3",
   "version": "3.7.1"
  }
 },
 "nbformat": 4,
 "nbformat_minor": 2
}
