{
 "cells": [
  {
   "cell_type": "markdown",
   "metadata": {},
   "source": [
    "This notebook attempts to approach question 5.8 with a 3-layered HMM."
   ]
  },
  {
   "cell_type": "code",
   "execution_count": 9,
   "metadata": {},
   "outputs": [],
   "source": [
    "import numpy as np"
   ]
  },
  {
   "cell_type": "code",
   "execution_count": 302,
   "metadata": {},
   "outputs": [
    {
     "ename": "TypeError",
     "evalue": "'str' object cannot be interpreted as an integer",
     "output_type": "error",
     "traceback": [
      "\u001b[0;31m---------------------------------------------------------------------------\u001b[0m",
      "\u001b[0;31mTypeError\u001b[0m                                 Traceback (most recent call last)",
      "\u001b[0;32m<ipython-input-302-073f6777efe5>\u001b[0m in \u001b[0;36m<module>\u001b[0;34m()\u001b[0m\n\u001b[0;32m----> 1\u001b[0;31m \u001b[0malphabet\u001b[0m \u001b[0;34m=\u001b[0m \u001b[0mnp\u001b[0m\u001b[0;34m.\u001b[0m\u001b[0mchararray\u001b[0m\u001b[0;34m(\u001b[0m\u001b[0;34m[\u001b[0m\u001b[0;34m\"a\"\u001b[0m\u001b[0;34m,\u001b[0m \u001b[0;34m\"b\"\u001b[0m\u001b[0;34m,\u001b[0m \u001b[0;34m\"c\"\u001b[0m\u001b[0;34m,\u001b[0m \u001b[0;34m\"d\"\u001b[0m\u001b[0;34m,\u001b[0m \u001b[0;34m\"e\"\u001b[0m\u001b[0;34m,\u001b[0m \u001b[0;34m\"f\"\u001b[0m\u001b[0;34m,\u001b[0m \u001b[0;34m\"g\"\u001b[0m\u001b[0;34m,\u001b[0m \u001b[0;34m\"h\"\u001b[0m\u001b[0;34m,\u001b[0m \u001b[0;34m\"i\"\u001b[0m\u001b[0;34m,\u001b[0m \u001b[0;34m\"j\"\u001b[0m\u001b[0;34m,\u001b[0m \u001b[0;34m\"k\"\u001b[0m\u001b[0;34m,\u001b[0m \u001b[0;34m\"l\"\u001b[0m\u001b[0;34m,\u001b[0m \u001b[0;34m\"m\"\u001b[0m\u001b[0;34m,\u001b[0m \u001b[0;34m\"n\"\u001b[0m\u001b[0;34m,\u001b[0m \u001b[0;34m\"o\"\u001b[0m\u001b[0;34m,\u001b[0m \u001b[0;34m\"p\"\u001b[0m\u001b[0;34m,\u001b[0m \u001b[0;34m\"q\"\u001b[0m\u001b[0;34m,\u001b[0m \u001b[0;34m\"r\"\u001b[0m\u001b[0;34m,\u001b[0m \u001b[0;34m\"s\"\u001b[0m\u001b[0;34m,\u001b[0m \u001b[0;34m\"t\"\u001b[0m\u001b[0;34m,\u001b[0m \u001b[0;34m\"u\"\u001b[0m\u001b[0;34m,\u001b[0m \u001b[0;34m\"v\"\u001b[0m\u001b[0;34m,\u001b[0m \u001b[0;34m\"w\"\u001b[0m\u001b[0;34m,\u001b[0m \u001b[0;34m\"x\"\u001b[0m\u001b[0;34m,\u001b[0m \u001b[0;34m\"y\"\u001b[0m\u001b[0;34m,\u001b[0m \u001b[0;34m\"z\"\u001b[0m\u001b[0;34m]\u001b[0m\u001b[0;34m)\u001b[0m\u001b[0;34m\u001b[0m\u001b[0m\n\u001b[0m\u001b[1;32m      2\u001b[0m \u001b[0mN\u001b[0m \u001b[0;34m=\u001b[0m \u001b[0mnp\u001b[0m\u001b[0;34m.\u001b[0m\u001b[0msize\u001b[0m\u001b[0;34m(\u001b[0m\u001b[0malphabet\u001b[0m\u001b[0;34m)\u001b[0m\u001b[0;34m\u001b[0m\u001b[0m\n",
      "\u001b[0;32m/anaconda3/lib/python3.7/site-packages/numpy/core/defchararray.py\u001b[0m in \u001b[0;36m__new__\u001b[0;34m(subtype, shape, itemsize, unicode, buffer, offset, strides, order)\u001b[0m\n\u001b[1;32m   1833\u001b[0m         \u001b[0;32mif\u001b[0m \u001b[0mbuffer\u001b[0m \u001b[0;32mis\u001b[0m \u001b[0;32mNone\u001b[0m\u001b[0;34m:\u001b[0m\u001b[0;34m\u001b[0m\u001b[0m\n\u001b[1;32m   1834\u001b[0m             self = ndarray.__new__(subtype, shape, (dtype, itemsize),\n\u001b[0;32m-> 1835\u001b[0;31m                                    order=order)\n\u001b[0m\u001b[1;32m   1836\u001b[0m         \u001b[0;32melse\u001b[0m\u001b[0;34m:\u001b[0m\u001b[0;34m\u001b[0m\u001b[0m\n\u001b[1;32m   1837\u001b[0m             self = ndarray.__new__(subtype, shape, (dtype, itemsize),\n",
      "\u001b[0;31mTypeError\u001b[0m: 'str' object cannot be interpreted as an integer"
     ]
    }
   ],
   "source": [
    "alphabet = np.chararray([\"a\", \"b\", \"c\", \"d\", \"e\", \"f\", \"g\", \"h\", \"i\", \"j\", \"k\", \"l\", \"m\", \"n\", \"o\", \"p\", \"q\", \"r\", \"s\", \"t\", \"u\", \"v\", \"w\", \"x\", \"y\", \"z\"])\n",
    "N = np.size(alphabet)"
   ]
  },
  {
   "cell_type": "code",
   "execution_count": 87,
   "metadata": {},
   "outputs": [],
   "source": [
    "fnames = np.array([\"david\", \"anton\", \"fred\", \"jim\", \"barry\"])\n",
    "snames = np.array([\"barber\", \"ilsung\", \"fox\", \"chain\", \"fitzwilliam\", \"quinceadams\", \"grafvonunterhosen\"])"
   ]
  },
  {
   "cell_type": "code",
   "execution_count": 285,
   "metadata": {},
   "outputs": [],
   "source": [
    "states = np.array([\"r1\", \"f1\", \"f2\", \"f3\", \"f4\", \"f5\", \"r2\", \"s1\", \"s2\", \"s3\", \"s4\", \"s5\", \"s6\", \"s7\", \"s8\", \"s9\", \"s10\", \"s11\", \"s12\", \"s13\", \"s14\", \"s15\", \"s16\", \"s17\"])\n",
    "K = np.size(states)"
   ]
  },
  {
   "cell_type": "code",
   "execution_count": 286,
   "metadata": {},
   "outputs": [],
   "source": [
    "def probability_name_longer_than(names, n):\n",
    "    \"\"\" Returns the probability of a name in the given names being longer\n",
    "    than the given number of characters. \"\"\"\n",
    "    c = t = 0\n",
    "    for name in names:\n",
    "        if len(name) >= n:\n",
    "            t += 1\n",
    "            if len(name) > n:\n",
    "                c += 1\n",
    "    return c / t\n",
    "        \n",
    "\n",
    "ss = np.zeros((K, K))\n",
    "for i, x in enumerate(states):\n",
    "    for j, y in enumerate(states):\n",
    "        if x == \"r1\":\n",
    "            if y == \"r1\":\n",
    "                ss[i][j] = 0.8\n",
    "            elif y == \"f1\":\n",
    "                ss[i][j] = 0.2\n",
    "            else:\n",
    "                ss[i][j] = 0.0\n",
    "        elif x == \"r2\":\n",
    "            if y == \"r2\":\n",
    "                ss[i][j] = 0.8\n",
    "            elif y == \"s1\":\n",
    "                ss[i][j] = 0.2\n",
    "            else:\n",
    "                ss[i][j] = 0.0\n",
    "        elif x.startswith(\"f\"):\n",
    "            if y.startswith(\"f\") and int(x[1:]) + 1 == int(y[1:]):\n",
    "                ss[i][j] = probability_name_longer_than(fnames, int(x[1:]))\n",
    "            elif y == \"r2\":\n",
    "                ss[i][j] = 1 - probability_name_longer_than(fnames, int(x[1:]))\n",
    "            else:\n",
    "                ss[i][j] = 0.0\n",
    "        elif x.startswith(\"s\"):\n",
    "            if y.startswith(\"s\") and int(x[1:]) + 1 == int(y[1:]):\n",
    "                ss[i][j] = probability_name_longer_than(snames, int(x[1:]))\n",
    "            elif y == \"r1\":\n",
    "                ss[i][j] = 1 - probability_name_longer_than(snames, int(x[1:]))\n",
    "            else:\n",
    "                ss[i][j] = 0.0"
   ]
  },
  {
   "cell_type": "code",
   "execution_count": 287,
   "metadata": {},
   "outputs": [],
   "source": [
    "vh = np.zeros((N, N))\n",
    "for i, a in enumerate(alphabet):\n",
    "    for j, b in enumerate(alphabet):\n",
    "        vh[i][j] = (i == j) * 0.3 + (i != j) * 0.7 / 25"
   ]
  },
  {
   "cell_type": "code",
   "execution_count": 291,
   "metadata": {},
   "outputs": [],
   "source": [
    "def count_names_with(names, letter, index):\n",
    "    \"\"\" Returns the share of names having the given letter at the given index. \"\"\"\n",
    "    c = t = 0\n",
    "    for name in names:\n",
    "        if len(name) > index:\n",
    "            t += 1\n",
    "            c += name[index] == letter\n",
    "    return c / t if c else c\n",
    "\n",
    "def probability_pair(names, i, a, j, b):\n",
    "    c = t = 0\n",
    "    for name in names:\n",
    "        if len(name) > j:\n",
    "            if name[i] == a:\n",
    "                t += 1\n",
    "                c += (name[i] == a) and (name[j] == b)\n",
    "    return c / t if c else c\n",
    "    \n",
    "\n",
    "hhs = np.zeros((N, N, K))\n",
    "for i, a in enumerate(alphabet):\n",
    "    for j, b in enumerate(alphabet):\n",
    "        for k, state in enumerate(states):\n",
    "            if state.startswith(\"r\"):\n",
    "                hhs[i][j][k] = 1 / 26\n",
    "            elif state.startswith(\"f\"):\n",
    "                if state == \"f1\":\n",
    "                    hhs[i][j][k] = count_names_with(fnames, b, 0)\n",
    "                else:\n",
    "                    x = int(state[1:]) - 2\n",
    "                    y = x + 1\n",
    "                    hhs[i][j][k] = probability_pair(fnames, x, a, y, b)\n",
    "            elif state.startswith(\"s\"):\n",
    "                if state == \"s1\":\n",
    "                    hhs[i][j][k] = count_names_with(snames, b, 0)\n",
    "                else:\n",
    "                    x = int(state[1:]) - 2\n",
    "                    y = x + 1\n",
    "                    hhs[i][j][k] = probability_pair(snames, x, a, y, b)                    "
   ]
  },
  {
   "cell_type": "code",
   "execution_count": 334,
   "metadata": {},
   "outputs": [],
   "source": [
    "# def index_of(letter):\n",
    "#     return (np.where(alphabet == letter))[0][0]\n",
    "\n",
    "# noisy_sequence = np.array(tuple(open(\"sequence.txt\", \"r\").read()))\n",
    "# T = len(clean_sequence)\n",
    "# clean_sequence = np.zeros(T, dtype=\"int\")\n",
    "# state_sequence = np.zeros(T, dtype=\"int\")\n",
    "\n",
    "# for k in range(1, T):\n",
    "#     best_p, best_letter, best_state = 0, 0, 0\n",
    "#     for i, s1 in enumerate(states):\n",
    "#         for j, letter in enumerate(alphabet):\n",
    "#             h0 = clean_sequence[k-1]\n",
    "#             v1 = index_of(noisy_sequence[k])\n",
    "#             s0 = int(state_sequence[k-1])\n",
    "#             a = ss[s0][i]\n",
    "#             b = vh[v1][j]\n",
    "#             c = hhs[h0][j][i]\n",
    "#             p = a * b * c\n",
    "#             #print(\"State: {}, Character: {}, P: {}\".format(s1, letter, p))\n",
    "#             if p > best_p:\n",
    "#                 best_p = p\n",
    "#                 best_letter = j\n",
    "#                 best_state = i\n",
    "#     state_sequence[k] = best_state\n",
    "#     clean_sequence[k] = best_letter\n",
    "#     print(alphabet[best_letter], end=\"\")"
   ]
  },
  {
   "cell_type": "code",
   "execution_count": null,
   "metadata": {},
   "outputs": [],
   "source": []
  }
 ],
 "metadata": {
  "kernelspec": {
   "display_name": "Python 3",
   "language": "python",
   "name": "python3"
  },
  "language_info": {
   "codemirror_mode": {
    "name": "ipython",
    "version": 3
   },
   "file_extension": ".py",
   "mimetype": "text/x-python",
   "name": "python",
   "nbconvert_exporter": "python",
   "pygments_lexer": "ipython3",
   "version": "3.7.0"
  }
 },
 "nbformat": 4,
 "nbformat_minor": 2
}
