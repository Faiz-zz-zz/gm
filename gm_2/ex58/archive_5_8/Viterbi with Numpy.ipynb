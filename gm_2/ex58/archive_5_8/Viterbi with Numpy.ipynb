{
 "cells": [
  {
   "cell_type": "code",
   "execution_count": 1,
   "metadata": {},
   "outputs": [],
   "source": [
    "import numpy as np"
   ]
  },
  {
   "cell_type": "markdown",
   "metadata": {},
   "source": [
    "Some first names and surnames are given, based on the English (lowercase) alphabet."
   ]
  },
  {
   "cell_type": "code",
   "execution_count": 2,
   "metadata": {},
   "outputs": [],
   "source": [
    "fnames = np.array([\"david\", \"anton\", \"fred\", \"jim\", \"barry\"])\n",
    "snames = np.array([\"barber\", \"ilsung\", \"fox\", \"chain\", \"fitzwilliam\", \"quinceadams\", \"grafvonunterhosen\"])"
   ]
  },
  {
   "cell_type": "code",
   "execution_count": 102,
   "metadata": {},
   "outputs": [],
   "source": [
    "sequence = np.array(list((open(\"sequence.txt\", \"r\")).read())[0:100])\n",
    "T = np.size(sequence)"
   ]
  },
  {
   "cell_type": "code",
   "execution_count": 103,
   "metadata": {},
   "outputs": [],
   "source": [
    "alphabet = np.array([\"a\", \"b\", \"c\", \"d\", \"e\", \"f\", \"g\", \"h\", \"i\", \"j\", \"k\", \"l\", \"m\", \"n\", \"o\", \"p\", \"q\", \"r\", \"s\", \"t\", \"u\", \"v\", \"w\", \"x\", \"y\", \"z\"])\n",
    "N = np.size(alphabet)"
   ]
  },
  {
   "cell_type": "markdown",
   "metadata": {},
   "source": [
    "From a high-level perspective, there exist four possible states for the machine generating the string: one which generates random characters before a first name, one that generates a first name, one which generates random characters before a surname and one that generates a last name. However, modelling this is not practical since each state can generate a string of arbitrary length. Another approach is to consider the atomic states that the four above mentioned states have. In other words, the two random character generators have 26 states each (one for each character) and the names have a state for each character in each name."
   ]
  },
  {
   "cell_type": "code",
   "execution_count": 104,
   "metadata": {},
   "outputs": [],
   "source": [
    "states, state_symbols = [], []\n",
    "for i, char in enumerate(alphabet):\n",
    "    states.append(\"r-0-{}\".format(i))\n",
    "    state_symbols.append(char)\n",
    "for i, name in enumerate(fnames):\n",
    "    for j, char in enumerate(name):\n",
    "        states.append(\"f-{}-{}\".format(i, j))\n",
    "        state_symbols.append(char)    \n",
    "for i, char in enumerate(alphabet):\n",
    "    states.append(\"r-1-{}\".format(i))\n",
    "    state_symbols.append(char)\n",
    "for i, name in enumerate(snames):\n",
    "    for j, char in enumerate(name):\n",
    "        states.append(\"s-{}-{}\".format(i, j))\n",
    "        state_symbols.append(char)\n",
    "states = np.array(states)\n",
    "state_symbols = np.array(state_symbols)\n",
    "\n",
    "K = np.size(states)"
   ]
  },
  {
   "cell_type": "markdown",
   "metadata": {},
   "source": [
    "The transitions operate as follows:\n",
    "* A state of either random character generator switches to another state of the same random character generator with probability $0.8 \\times \\frac{1}{26}$.\n",
    "* A state of either random character generator switches to the state of the first character of a name with probability $0.2 \\times \\frac{1}{|\\mathcal{N}|}$, where $\\mathcal{N}$ is the set of names (first names for the first random generator and surname for the second generator)\n",
    "* A state of a character of a name switches to the state of the next character for that name with probability $1.0$, unless it's the last character in which case it would switch to the state of a character of the following random generator with probability $\\frac{1}{26}$"
   ]
  },
  {
   "cell_type": "code",
   "execution_count": 111,
   "metadata": {},
   "outputs": [],
   "source": [
    "A = np.zeros((K, K))\n",
    "\n",
    "for i, a in enumerate(states):\n",
    "    for j, b in enumerate(states):\n",
    "        if a.startswith(\"r-0\"):\n",
    "            if b.startswith(\"r-0\"):\n",
    "                A[i][j] = 0.8 / 26\n",
    "            elif b.startswith(\"f\") and b.endswith(\"-0\"):\n",
    "                A[i][j] = 0.2 / len(fnames)\n",
    "        elif a.startswith(\"r-1\"):\n",
    "            if b.startswith(\"r-1\"):\n",
    "                A[i][j] = 0.8 / 26\n",
    "            elif b.startswith(\"s\") and b.endswith(\"-0\"):\n",
    "                A[i][j] = 0.2 / len(snames)\n",
    "        elif a.startswith(\"f\"):\n",
    "            v = a.split(\"-\")\n",
    "            name_i, char_i = int(v[1]), int(v[2])\n",
    "            next_name_state = \"f-{}-{}\".format(name_i, char_i + 1)\n",
    "            if next_name_state in states:\n",
    "                A[i][j] = 1.0 if b == next_name_state else 0\n",
    "            elif b.startswith(\"r-1\"):\n",
    "                A[i][j] = 1/ 26\n",
    "        elif a.startswith(\"s\"):\n",
    "            v = a.split(\"-\")\n",
    "            name_i, char_i = int(v[1]), int(v[2])\n",
    "            next_name_state = \"s-{}-{}\".format(name_i, char_i + 1)\n",
    "            if next_name_state in states:\n",
    "                A[i][j] = 1.0 if b == next_name_state else 0\n",
    "            elif b.startswith(\"r-0\"):\n",
    "                A[i][j] = 1/ 26"
   ]
  },
  {
   "cell_type": "code",
   "execution_count": 112,
   "metadata": {},
   "outputs": [
    {
     "data": {
      "text/plain": [
       "array([[0.3  , 0.028, 0.028, ..., 0.028, 0.028, 0.028],\n",
       "       [0.028, 0.3  , 0.028, ..., 0.028, 0.028, 0.028],\n",
       "       [0.028, 0.028, 0.3  , ..., 0.028, 0.028, 0.028],\n",
       "       ...,\n",
       "       [0.028, 0.028, 0.028, ..., 0.028, 0.028, 0.028],\n",
       "       [0.028, 0.028, 0.028, ..., 0.028, 0.028, 0.028],\n",
       "       [0.028, 0.028, 0.028, ..., 0.028, 0.028, 0.028]])"
      ]
     },
     "execution_count": 112,
     "metadata": {},
     "output_type": "execute_result"
    }
   ],
   "source": [
    "B = np.zeros((K, N))\n",
    "\n",
    "for i, state in enumerate(states):\n",
    "    symbol = state_symbols[i]\n",
    "    for j, char in enumerate(alphabet):\n",
    "        B[i][j] = (symbol == char) * 0.3 + (symbol != char) * 0.7 / 25\n",
    "\n",
    "B"
   ]
  },
  {
   "cell_type": "code",
   "execution_count": 99,
   "metadata": {},
   "outputs": [],
   "source": [
    "initial = np.zeros((K))\n",
    "for i, state in enumerate(states):\n",
    "    initial[i] = 1 / 26 if state.startswith(\"r-0\") else 0"
   ]
  },
  {
   "cell_type": "code",
   "execution_count": 121,
   "metadata": {},
   "outputs": [],
   "source": [
    "y = np.array([list(alphabet).index(char) for char in list(sequence)])\n",
    "\n",
    "def viterbi():\n",
    "    t1 = np.zeros((K, T))\n",
    "    t2 = np.zeros((K, T))\n",
    "    for i, state in enumerate(states):\n",
    "        t1[i, 0] = initial[i] * B[i][y[0]]\n",
    "        t2[i, 0] = 0\n",
    "    for i_, o in enumerate(y[1:]):\n",
    "        i = i_ + 1\n",
    "        for j, state in enumerate(states):\n",
    "            max_k, argmax_k = 0, 0\n",
    "            for k, state in enumerate(states):\n",
    "                x = t1[k][i - 1] * A[k][j] * B[j][y[i]]\n",
    "                if x > max_k:\n",
    "                    max_k = x\n",
    "                    argmax_k = k\n",
    "            t1[j][i] = max_k\n",
    "            t2[j][i] = argmax_k    \n",
    "    z, x = np.zeros((T), dtype=\"int\"), np.zeros((T), dtype=\"<U6\")\n",
    "    z[T - 1] = np.argmax(t1[:,T-1])\n",
    "    x[T - 1] = state_symbols[z[T-1]]\n",
    "    for t in range(T - 1, 0, -1):\n",
    "        z[t-1] = t2[z[t], t]\n",
    "        x[t-1] = state_symbols[z[t-1]]\n",
    "    return x\n",
    "\n",
    "x = viterbi()"
   ]
  },
  {
   "cell_type": "code",
   "execution_count": 122,
   "metadata": {},
   "outputs": [
    {
     "data": {
      "text/plain": [
       "'kjimegrafvonunterhosenjjimgfitzwilliamidavidgquinceadamsxantondquinceadamshdavidzwgrafvonunterhosenw'"
      ]
     },
     "execution_count": 122,
     "metadata": {},
     "output_type": "execute_result"
    }
   ],
   "source": [
    "x = ''.join(list(x))\n",
    "x"
   ]
  },
  {
   "cell_type": "code",
   "execution_count": null,
   "metadata": {},
   "outputs": [],
   "source": []
  }
 ],
 "metadata": {
  "kernelspec": {
   "display_name": "Python 3",
   "language": "python",
   "name": "python3"
  },
  "language_info": {
   "codemirror_mode": {
    "name": "ipython",
    "version": 3
   },
   "file_extension": ".py",
   "mimetype": "text/x-python",
   "name": "python",
   "nbconvert_exporter": "python",
   "pygments_lexer": "ipython3",
   "version": "3.7.0"
  }
 },
 "nbformat": 4,
 "nbformat_minor": 2
}
