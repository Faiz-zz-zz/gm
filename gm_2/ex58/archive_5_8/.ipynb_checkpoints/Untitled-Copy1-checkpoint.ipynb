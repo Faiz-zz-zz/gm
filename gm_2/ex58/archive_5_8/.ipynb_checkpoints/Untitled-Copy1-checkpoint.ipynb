{
 "cells": [
  {
   "cell_type": "code",
   "execution_count": 3,
   "metadata": {},
   "outputs": [],
   "source": [
    "import numpy as np"
   ]
  },
  {
   "cell_type": "code",
   "execution_count": 4,
   "metadata": {},
   "outputs": [],
   "source": [
    "fnames = {\"david\", \"anton\", \"fred\", \"jim\", \"barry\"}\n",
    "snames = {\"barber\", \"ilsung\", \"fox\", \"chain\", \"fitzwilliam\", \"quinceadams\", \"grafvonunterhosen\"}\n",
    "alphabet = {\"a\", \"b\", \"c\", \"d\", \"e\", \"f\", \"g\", \"h\", \"i\", \"j\", \"k\", \"l\", \"m\", \"n\", \"o\", \"p\", \"q\", \"r\", \"s\", \"t\", \"u\", \"v\", \"w\", \"x\", \"y\", \"z\"}"
   ]
  },
  {
   "cell_type": "code",
   "execution_count": 88,
   "metadata": {},
   "outputs": [],
   "source": [
    "# noisy_sequence = (open(\"sequence.txt\", \"r\")).read()\n",
    "# clean_sequence = (open(\"sequence.txt\", \"r\")).read()\n",
    "noisy_sequence = list(\"xdovidxborberx\")\n",
    "clean_sequence = list(\"xdovidxborberx\")\n",
    "N = len(noisy_sequence)"
   ]
  },
  {
   "cell_type": "code",
   "execution_count": 22,
   "metadata": {},
   "outputs": [],
   "source": [
    "def _f(a, b):\n",
    "    \"\"\" Returns the probability of encountering subsequence (a, b)\n",
    "    in the names. \"\"\"\n",
    "    count = 0\n",
    "    total = 0\n",
    "    for name in fnames.union(snames):\n",
    "        for c in range(0, len(name) - 1):\n",
    "            total += 1\n",
    "            if name[c] == a and name[c + 1] == b:\n",
    "                count += 1\n",
    "    return count / total\n",
    "\n",
    "def map_f():\n",
    "    \"\"\" Returns the mapping of each permutation of two letters of the\n",
    "    alphabet to the probability of encountering it in a name. \"\"\"\n",
    "    m = {}\n",
    "    for a in alphabet:\n",
    "        for b in alphabet:\n",
    "            m[(a, b)] = _f(a, b)\n",
    "    return m\n",
    "\n",
    "f = map_f()"
   ]
  },
  {
   "cell_type": "code",
   "execution_count": 81,
   "metadata": {},
   "outputs": [],
   "source": [
    "def p1(e=False):\n",
    "    \"\"\" Returns the prior probability of any character. \"\"\"\n",
    "    return 1 / 26 if not e else 1 / 25\n",
    "\n",
    "def p2(h0, h1):\n",
    "    \"\"\" Returns the probability of a chracter being b given the\n",
    "    previous one is a. \"\"\"\n",
    "    return 0.2 * f[h0, h1] + 0.8 * p1()\n",
    "\n",
    "def p3(v, h):\n",
    "    #return 0.3 * (v == h) + 0.7 * p1(e=True)\n",
    "    return p1()\n",
    "\n",
    "def joint_probability():\n",
    "    jp = np.log(p1()) + np.log(p3(noisy_sequence[0], clean_sequence[0]))\n",
    "    for i in range(1, N):\n",
    "        phh = np.log(p2(clean_sequence[i - 1], clean_sequence[i]))\n",
    "        pvh = np.log(p3(noisy_sequence[i], clean_sequence[i]))\n",
    "        jp += phh + pvh\n",
    "#         print(\"p(h{} = {} | h{} = {}) = {}\".format(i - 1, clean_sequence[i - 1], i, clean_sequence[i], phh))\n",
    "#         print(\"p(v{} = {} | h{} = {}) = {}\".format(i, noisy_sequence[i], i, clean_sequence[i], pvh))\n",
    "    return jp\n",
    "\n",
    "def updated_joint_probability(jp, i, c):\n",
    "    jp -= np.log(p3(noisy_sequence[i], clean_sequence[i]))\n",
    "    jp -= np.log(p2(clean_sequence[i - 1], clean_sequence[i])) if i > 0 else p1()\n",
    "    jp -= np.log(p2(clean_sequence[i], clean_sequence[i + 1])) if i < N - 1 else 0\n",
    "    jp += np.log(p3(noisy_sequence[i], c))\n",
    "    jp += np.log(p2(clean_sequence[i - 1], c)) if i > 0 else p1()\n",
    "    jp += np.log(p2(c, clean_sequence[i + 1])) if i < N else 0\n",
    "    return jp"
   ]
  },
  {
   "cell_type": "code",
   "execution_count": 86,
   "metadata": {},
   "outputs": [],
   "source": [
    "# noisy_sequence = list(\"xdovidxbarberx\")\n",
    "# clean_sequence = list(\"xdovidxbarberx\")\n",
    "# print(updated_joint_probability(joint_probability(), 2, \"a\"))\n",
    "# clean_sequence = list(\"xdavidxbarberx\")\n",
    "# print(joint_probability())"
   ]
  },
  {
   "cell_type": "code",
   "execution_count": 79,
   "metadata": {},
   "outputs": [],
   "source": [
    "# # xdovidxbarbwrx\n",
    "# noisy_sequence = list(\"xdovidxborberx\")\n",
    "# clean_sequence = list(\"xdovidxborberx\")\n",
    "# print(joint_probability())\n",
    "# print(\"------\")\n",
    "# clean_sequence = list(\"xdavidxbarberx\")\n",
    "# print(joint_probability())\n"
   ]
  },
  {
   "cell_type": "code",
   "execution_count": 80,
   "metadata": {},
   "outputs": [],
   "source": [
    "# noisy_sequence = list(\"xdovidxbarberx\")\n",
    "# clean_sequence = list(\"xdovidxbarberx\")\n",
    "\n",
    "# for c in sorted(list(alphabet)):\n",
    "#     clean_sequence[2] = c\n",
    "#     print(\"{}: {}\".format(''.join(clean_sequence), joint_probability()))"
   ]
  },
  {
   "cell_type": "code",
   "execution_count": 89,
   "metadata": {},
   "outputs": [
    {
     "name": "stdout",
     "output_type": "stream",
     "text": [
      "idovidxborberx\n",
      "idfvidxborberx\n",
      "idfvidxborberx\n"
     ]
    },
    {
     "ename": "IndexError",
     "evalue": "list index out of range",
     "output_type": "error",
     "traceback": [
      "\u001b[0;31m---------------------------------------------------------------------------\u001b[0m",
      "\u001b[0;31mIndexError\u001b[0m                                Traceback (most recent call last)",
      "\u001b[0;32m<ipython-input-89-8de3bc17b8f9>\u001b[0m in \u001b[0;36m<module>\u001b[0;34m()\u001b[0m\n\u001b[1;32m     13\u001b[0m \u001b[0;34m\u001b[0m\u001b[0m\n\u001b[1;32m     14\u001b[0m \u001b[0;34m\u001b[0m\u001b[0m\n\u001b[0;32m---> 15\u001b[0;31m \u001b[0mclean\u001b[0m\u001b[0;34m(\u001b[0m\u001b[0;34m)\u001b[0m\u001b[0;34m\u001b[0m\u001b[0m\n\u001b[0m",
      "\u001b[0;32m<ipython-input-89-8de3bc17b8f9>\u001b[0m in \u001b[0;36mclean\u001b[0;34m()\u001b[0m\n\u001b[1;32m      5\u001b[0m         \u001b[0mbest_jp\u001b[0m\u001b[0;34m,\u001b[0m \u001b[0mbest_c\u001b[0m \u001b[0;34m=\u001b[0m \u001b[0mjp\u001b[0m\u001b[0;34m,\u001b[0m \u001b[0mclean_sequence\u001b[0m\u001b[0;34m[\u001b[0m\u001b[0mi\u001b[0m\u001b[0;34m]\u001b[0m\u001b[0;34m\u001b[0m\u001b[0m\n\u001b[1;32m      6\u001b[0m         \u001b[0;32mfor\u001b[0m \u001b[0mc\u001b[0m \u001b[0;32min\u001b[0m \u001b[0malphabet\u001b[0m\u001b[0;34m:\u001b[0m\u001b[0;34m\u001b[0m\u001b[0m\n\u001b[0;32m----> 7\u001b[0;31m             \u001b[0mnew_jp\u001b[0m \u001b[0;34m=\u001b[0m \u001b[0mupdated_joint_probability\u001b[0m\u001b[0;34m(\u001b[0m\u001b[0mbest_jp\u001b[0m\u001b[0;34m,\u001b[0m \u001b[0mi\u001b[0m\u001b[0;34m,\u001b[0m \u001b[0mc\u001b[0m\u001b[0;34m)\u001b[0m\u001b[0;34m\u001b[0m\u001b[0m\n\u001b[0m\u001b[1;32m      8\u001b[0m             \u001b[0;32mif\u001b[0m \u001b[0mnew_jp\u001b[0m \u001b[0;34m>\u001b[0m \u001b[0mbest_jp\u001b[0m\u001b[0;34m:\u001b[0m\u001b[0;34m\u001b[0m\u001b[0m\n\u001b[1;32m      9\u001b[0m                 \u001b[0mbest_jp\u001b[0m \u001b[0;34m=\u001b[0m \u001b[0mnew_jp\u001b[0m\u001b[0;34m\u001b[0m\u001b[0m\n",
      "\u001b[0;32m<ipython-input-81-521e101904ff>\u001b[0m in \u001b[0;36mupdated_joint_probability\u001b[0;34m(jp, i, c)\u001b[0m\n\u001b[1;32m     25\u001b[0m     \u001b[0mjp\u001b[0m \u001b[0;34m-=\u001b[0m \u001b[0mnp\u001b[0m\u001b[0;34m.\u001b[0m\u001b[0mlog\u001b[0m\u001b[0;34m(\u001b[0m\u001b[0mp3\u001b[0m\u001b[0;34m(\u001b[0m\u001b[0mnoisy_sequence\u001b[0m\u001b[0;34m[\u001b[0m\u001b[0mi\u001b[0m\u001b[0;34m]\u001b[0m\u001b[0;34m,\u001b[0m \u001b[0mclean_sequence\u001b[0m\u001b[0;34m[\u001b[0m\u001b[0mi\u001b[0m\u001b[0;34m]\u001b[0m\u001b[0;34m)\u001b[0m\u001b[0;34m)\u001b[0m\u001b[0;34m\u001b[0m\u001b[0m\n\u001b[1;32m     26\u001b[0m     \u001b[0mjp\u001b[0m \u001b[0;34m-=\u001b[0m \u001b[0mnp\u001b[0m\u001b[0;34m.\u001b[0m\u001b[0mlog\u001b[0m\u001b[0;34m(\u001b[0m\u001b[0mp2\u001b[0m\u001b[0;34m(\u001b[0m\u001b[0mclean_sequence\u001b[0m\u001b[0;34m[\u001b[0m\u001b[0mi\u001b[0m \u001b[0;34m-\u001b[0m \u001b[0;36m1\u001b[0m\u001b[0;34m]\u001b[0m\u001b[0;34m,\u001b[0m \u001b[0mclean_sequence\u001b[0m\u001b[0;34m[\u001b[0m\u001b[0mi\u001b[0m\u001b[0;34m]\u001b[0m\u001b[0;34m)\u001b[0m\u001b[0;34m)\u001b[0m \u001b[0;32mif\u001b[0m \u001b[0mi\u001b[0m \u001b[0;34m>\u001b[0m \u001b[0;36m0\u001b[0m \u001b[0;32melse\u001b[0m \u001b[0mp1\u001b[0m\u001b[0;34m(\u001b[0m\u001b[0;34m)\u001b[0m\u001b[0;34m\u001b[0m\u001b[0m\n\u001b[0;32m---> 27\u001b[0;31m     \u001b[0mjp\u001b[0m \u001b[0;34m-=\u001b[0m \u001b[0mnp\u001b[0m\u001b[0;34m.\u001b[0m\u001b[0mlog\u001b[0m\u001b[0;34m(\u001b[0m\u001b[0mp2\u001b[0m\u001b[0;34m(\u001b[0m\u001b[0mclean_sequence\u001b[0m\u001b[0;34m[\u001b[0m\u001b[0mi\u001b[0m\u001b[0;34m]\u001b[0m\u001b[0;34m,\u001b[0m \u001b[0mclean_sequence\u001b[0m\u001b[0;34m[\u001b[0m\u001b[0mi\u001b[0m \u001b[0;34m+\u001b[0m \u001b[0;36m1\u001b[0m\u001b[0;34m]\u001b[0m\u001b[0;34m)\u001b[0m\u001b[0;34m)\u001b[0m \u001b[0;32mif\u001b[0m \u001b[0mi\u001b[0m \u001b[0;34m<\u001b[0m \u001b[0mN\u001b[0m \u001b[0;32melse\u001b[0m \u001b[0;36m0\u001b[0m\u001b[0;34m\u001b[0m\u001b[0m\n\u001b[0m\u001b[1;32m     28\u001b[0m     \u001b[0mjp\u001b[0m \u001b[0;34m+=\u001b[0m \u001b[0mnp\u001b[0m\u001b[0;34m.\u001b[0m\u001b[0mlog\u001b[0m\u001b[0;34m(\u001b[0m\u001b[0mp3\u001b[0m\u001b[0;34m(\u001b[0m\u001b[0mnoisy_sequence\u001b[0m\u001b[0;34m[\u001b[0m\u001b[0mi\u001b[0m\u001b[0;34m]\u001b[0m\u001b[0;34m,\u001b[0m \u001b[0mc\u001b[0m\u001b[0;34m)\u001b[0m\u001b[0;34m)\u001b[0m\u001b[0;34m\u001b[0m\u001b[0m\n\u001b[1;32m     29\u001b[0m     \u001b[0mjp\u001b[0m \u001b[0;34m+=\u001b[0m \u001b[0mnp\u001b[0m\u001b[0;34m.\u001b[0m\u001b[0mlog\u001b[0m\u001b[0;34m(\u001b[0m\u001b[0mp2\u001b[0m\u001b[0;34m(\u001b[0m\u001b[0mclean_sequence\u001b[0m\u001b[0;34m[\u001b[0m\u001b[0mi\u001b[0m \u001b[0;34m-\u001b[0m \u001b[0;36m1\u001b[0m\u001b[0;34m]\u001b[0m\u001b[0;34m,\u001b[0m \u001b[0mc\u001b[0m\u001b[0;34m)\u001b[0m\u001b[0;34m)\u001b[0m \u001b[0;32mif\u001b[0m \u001b[0mi\u001b[0m \u001b[0;34m>\u001b[0m \u001b[0;36m0\u001b[0m \u001b[0;32melse\u001b[0m \u001b[0mp1\u001b[0m\u001b[0;34m(\u001b[0m\u001b[0;34m)\u001b[0m\u001b[0;34m\u001b[0m\u001b[0m\n",
      "\u001b[0;31mIndexError\u001b[0m: list index out of range"
     ]
    }
   ],
   "source": [
    "def clean():\n",
    "    jp = joint_probability()\n",
    "    while True:\n",
    "        i = np.random.randint(N)\n",
    "        best_jp, best_c = jp, clean_sequence[i]\n",
    "        for c in alphabet:\n",
    "            new_jp = updated_joint_probability(best_jp, i, c)\n",
    "            if new_jp > best_jp:\n",
    "                best_jp = new_jp\n",
    "                best_c = c\n",
    "        clean_sequence[i] = best_c\n",
    "        print(''.join(clean_sequence))\n",
    "                \n",
    "                \n",
    "clean()"
   ]
  },
  {
   "cell_type": "code",
   "execution_count": null,
   "metadata": {},
   "outputs": [],
   "source": [
    "clean_sequence"
   ]
  }
 ],
 "metadata": {
  "kernelspec": {
   "display_name": "Python 3",
   "language": "python",
   "name": "python3"
  },
  "language_info": {
   "codemirror_mode": {
    "name": "ipython",
    "version": 3
   },
   "file_extension": ".py",
   "mimetype": "text/x-python",
   "name": "python",
   "nbconvert_exporter": "python",
   "pygments_lexer": "ipython3",
   "version": "3.7.0"
  }
 },
 "nbformat": 4,
 "nbformat_minor": 2
}
