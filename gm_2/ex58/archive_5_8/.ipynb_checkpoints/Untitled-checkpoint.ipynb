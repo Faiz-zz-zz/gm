{
 "cells": [
  {
   "cell_type": "code",
   "execution_count": 1,
   "metadata": {},
   "outputs": [],
   "source": [
    "import numpy as np"
   ]
  },
  {
   "cell_type": "code",
   "execution_count": 2,
   "metadata": {},
   "outputs": [],
   "source": [
    "fnames = {\"david\", \"anton\", \"fred\", \"jim\", \"barry\"}\n",
    "snames = {\"barber\", \"ilsung\", \"fox\", \"chain\", \"fitzwilliam\", \"quinceadams\", \"grafvonunterhosen\"}\n",
    "alphabet = {\"a\", \"b\", \"c\", \"d\", \"e\", \"f\", \"g\", \"h\", \"i\", \"j\", \"k\", \"l\", \"m\", \"n\", \"o\", \"p\", \"q\", \"r\", \"s\", \"t\", \"u\", \"v\", \"w\", \"x\", \"y\", \"z\"}"
   ]
  },
  {
   "cell_type": "code",
   "execution_count": 51,
   "metadata": {},
   "outputs": [],
   "source": [
    "# noisy_sequence = (open(\"sequence.txt\", \"r\")).read()\n",
    "# clean_sequence = (open(\"sequence.txt\", \"r\")).read()\n",
    "noisy_sequence = list(\"xdovidxbarberx\")\n",
    "clean_sequence = list(\"xdovidxbarberx\")"
   ]
  },
  {
   "cell_type": "code",
   "execution_count": 4,
   "metadata": {},
   "outputs": [],
   "source": [
    "def _f(a, b):\n",
    "    count = 0\n",
    "    total = 0\n",
    "    for name in fnames.union(snames):\n",
    "        for c in range(0, len(name) - 1):\n",
    "            total += 1\n",
    "            if name[c] == a and name[c + 1] == b:\n",
    "                count += 1\n",
    "    return count / total\n",
    "\n",
    "def map_f():\n",
    "    m = {}\n",
    "    for a in alphabet:\n",
    "        for b in alphabet:\n",
    "            m[(a, b)] = _f(a, b)\n",
    "    return m\n",
    "\n",
    "f = map_f()"
   ]
  },
  {
   "cell_type": "code",
   "execution_count": 48,
   "metadata": {},
   "outputs": [],
   "source": [
    "def pvgh(v, h):\n",
    "    \"\"\" The probability of observing visible state V given\n",
    "    hidden state H. \"\"\"\n",
    "    #return 0.3 if v == h else 0.7 * p()\n",
    "    return 0.3 if v == h else 0.7\n",
    "\n",
    "def p():\n",
    "    \"\"\" Returns the prior probability of any character. \"\"\"\n",
    "    return 1 / 26\n",
    "\n",
    "def p2(h0, h1):\n",
    "    \"\"\" Returns the probability of a chracter being b given the\n",
    "    previous one is a. \"\"\"\n",
    "    return 0.2 * f[h0, h1] + 0.8 * p()\n",
    "\n",
    "def joint_probability():\n",
    "    jp = np.log(p()) + np.log(pvgh(noisy_sequence[0], clean_sequence[0]))\n",
    "    for i in range(0, len(noisy_sequence) - 1):\n",
    "        phh = np.log(p2(clean_sequence[i], clean_sequence[i + 1]))\n",
    "        pvh = np.log(pvgh(noisy_sequence[i + 1], clean_sequence[i + 1]))\n",
    "        #print(\"p(h{} = {} | h{} = {}) = {}\".format(i, clean_sequence[i], i + 1, clean_sequence[i + 1], phh))\n",
    "        #print(\"p(v{} = {} | h{} = {}) = {}\".format(i + 1, noisy_sequence[i + 1], i + 1, clean_sequence[i + 1], pvh))\n",
    "        jp += phh + pvh\n",
    "    return jp\n",
    "\n",
    "def update_joint_probability(jp, i, c):\n",
    "    \"\"\" Get the value of the joint probability. \"\"\"\n",
    "    jp -= np.log(pvgh(clean_sequence[i], noisy_sequence[i]))\n",
    "    jp -= np.log(p2(clean_sequence[i], clean_sequence[i + 1])) if i < len(clean_sequence) - 1 else 0\n",
    "    jp -= np.log(p2(clean_sequence[i - 1], clean_sequence[i])) if i > 0 else 0\n",
    "    jp += np.log(pvgh(c, noisy_sequence[i]))\n",
    "    jp += np.log(p2(c, clean_sequence[i + 1])) if i < len(clean_sequence) - 1 else 0\n",
    "    jp += np.log(p2(clean_sequence[i - 1], c)) if i > 0 else 0\n",
    "    return jp"
   ]
  },
  {
   "cell_type": "code",
   "execution_count": 49,
   "metadata": {},
   "outputs": [
    {
     "name": "stdout",
     "output_type": "stream",
     "text": [
      "-64.49189412531673\n",
      "------\n",
      "-63.381957370604816\n"
     ]
    }
   ],
   "source": [
    "# xdovidxbarbwrx\n",
    "noisy_sequence = list(\"xdovidxbarberx\")\n",
    "clean_sequence = list(\"xdovidxbarberx\")\n",
    "print(joint_probability())\n",
    "print(\"------\")\n",
    "clean_sequence = list(\"xdavidxbarberx\")\n",
    "print(joint_probability())\n"
   ]
  },
  {
   "cell_type": "code",
   "execution_count": 52,
   "metadata": {},
   "outputs": [
    {
     "name": "stdout",
     "output_type": "stream",
     "text": [
      "Initial joint probability -64.49189412531673\n",
      "Found better sequence with log(p)=-63.64459626492953\n",
      "xdovidxbarberx\n",
      "Found better sequence with log(p)=-63.05993729886704\n",
      "xdevidxbarberx\n",
      "Found better sequence with log(p)=-62.38525218114683\n",
      "xdevidxbarbkrx\n",
      "Found better sequence with log(p)=-61.62798047241735\n",
      "xdevidxwarbkrx\n",
      "Found better sequence with log(p)=-60.96073491534558\n",
      "xdevidxwarjkrx\n",
      "Found better sequence with log(p)=-60.023410903300665\n",
      "xdevbdxwarjkrx\n",
      "Found better sequence with log(p)=-59.176113042913464\n",
      "adevbdxwarjkrx\n",
      "Found better sequence with log(p)=-58.501427925193255\n",
      "adewbdxwarjkrx\n",
      "Found better sequence with log(p)=-57.654130064806054\n",
      "adewbdxwazjkrx\n",
      "Found better sequence with log(p)=-56.80683220441885\n",
      "adewbdcwazjkrx\n",
      "Found better sequence with log(p)=-56.716806052761136\n",
      "acewbdcwazjkrx\n",
      "Found better sequence with log(p)=-55.869508192373935\n",
      "acewbdcwavjkrx\n",
      "Found better sequence with log(p)=-55.022210331986734\n",
      "acewbdcwavjkqx\n",
      "Found better sequence with log(p)=-54.26493862325725\n",
      "acewbicwavjkqx\n",
      "Found better sequence with log(p)=-54.174912471599534\n",
      "acewbicwqvjkqx\n",
      "Found better sequence with log(p)=-53.32761461121233\n",
      "acewbicwivjkqx\n",
      "Found better sequence with log(p)=-53.24502802020306\n",
      "acewbicwivjkqi\n",
      "Found better sequence with log(p)=-53.15500186854534\n",
      "amewbicwivjkqi\n",
      "Found better sequence with log(p)=-53.06497571688762\n",
      "amewwicwivjkqi\n",
      "Found better sequence with log(p)=-52.974949565229906\n",
      "amewwicwivjkui\n",
      "Found better sequence with log(p)=-52.802336822562914\n",
      "amewwizwivjkui\n",
      "Found better sequence with log(p)=-52.62972407989592\n",
      "amewwizwinjkui\n",
      "Found better sequence with log(p)=-52.45711133722893\n",
      "amerwizwinjkui\n",
      "Found better sequence with log(p)=-52.36708518557121\n",
      "amerwizwintkui\n",
      "Found better sequence with log(p)=-52.28449859456194\n",
      "amerwizwintsui\n",
      "Found better sequence with log(p)=-52.19447244290422\n",
      "amerwilwintsui\n",
      "Found better sequence with log(p)=-52.104446291246504\n",
      "arerwilwintsui\n",
      "Found better sequence with log(p)=-52.02185970023723\n",
      "arerwillintsui\n",
      "Found better sequence with log(p)=-51.93183354857951\n",
      "arerwillintsun\n"
     ]
    },
    {
     "ename": "KeyboardInterrupt",
     "evalue": "",
     "output_type": "error",
     "traceback": [
      "\u001b[0;31m---------------------------------------------------------------------------\u001b[0m",
      "\u001b[0;31mKeyboardInterrupt\u001b[0m                         Traceback (most recent call last)",
      "\u001b[0;32m<ipython-input-52-ec58b29ee093>\u001b[0m in \u001b[0;36m<module>\u001b[0;34m()\u001b[0m\n\u001b[1;32m     14\u001b[0m \u001b[0;34m\u001b[0m\u001b[0m\n\u001b[1;32m     15\u001b[0m \u001b[0;34m\u001b[0m\u001b[0m\n\u001b[0;32m---> 16\u001b[0;31m \u001b[0mclean\u001b[0m\u001b[0;34m(\u001b[0m\u001b[0;34m)\u001b[0m\u001b[0;34m\u001b[0m\u001b[0m\n\u001b[0m",
      "\u001b[0;32m<ipython-input-52-ec58b29ee093>\u001b[0m in \u001b[0;36mclean\u001b[0;34m()\u001b[0m\n\u001b[1;32m      6\u001b[0m         \u001b[0mi\u001b[0m \u001b[0;34m=\u001b[0m \u001b[0mnp\u001b[0m\u001b[0;34m.\u001b[0m\u001b[0mrandom\u001b[0m\u001b[0;34m.\u001b[0m\u001b[0mrandint\u001b[0m\u001b[0;34m(\u001b[0m\u001b[0mlen\u001b[0m\u001b[0;34m(\u001b[0m\u001b[0mclean_sequence\u001b[0m\u001b[0;34m)\u001b[0m\u001b[0;34m)\u001b[0m\u001b[0;34m\u001b[0m\u001b[0m\n\u001b[1;32m      7\u001b[0m         \u001b[0mc\u001b[0m \u001b[0;34m=\u001b[0m \u001b[0mlist\u001b[0m\u001b[0;34m(\u001b[0m\u001b[0malphabet\u001b[0m\u001b[0;34m)\u001b[0m\u001b[0;34m[\u001b[0m\u001b[0mnp\u001b[0m\u001b[0;34m.\u001b[0m\u001b[0mrandom\u001b[0m\u001b[0;34m.\u001b[0m\u001b[0mrandint\u001b[0m\u001b[0;34m(\u001b[0m\u001b[0mlen\u001b[0m\u001b[0;34m(\u001b[0m\u001b[0malphabet\u001b[0m\u001b[0;34m)\u001b[0m\u001b[0;34m)\u001b[0m\u001b[0;34m]\u001b[0m\u001b[0;34m\u001b[0m\u001b[0m\n\u001b[0;32m----> 8\u001b[0;31m         \u001b[0mnew_jp\u001b[0m \u001b[0;34m=\u001b[0m \u001b[0mupdate_joint_probability\u001b[0m\u001b[0;34m(\u001b[0m\u001b[0mjp\u001b[0m\u001b[0;34m,\u001b[0m \u001b[0mi\u001b[0m\u001b[0;34m,\u001b[0m \u001b[0mc\u001b[0m\u001b[0;34m)\u001b[0m\u001b[0;34m\u001b[0m\u001b[0m\n\u001b[0m\u001b[1;32m      9\u001b[0m         \u001b[0;32mif\u001b[0m \u001b[0mnew_jp\u001b[0m \u001b[0;34m>\u001b[0m \u001b[0mjp\u001b[0m\u001b[0;34m:\u001b[0m\u001b[0;34m\u001b[0m\u001b[0m\n\u001b[1;32m     10\u001b[0m             \u001b[0mprint\u001b[0m\u001b[0;34m(\u001b[0m\u001b[0;34m\"Found better sequence with log(p)={}\"\u001b[0m\u001b[0;34m.\u001b[0m\u001b[0mformat\u001b[0m\u001b[0;34m(\u001b[0m\u001b[0mnew_jp\u001b[0m\u001b[0;34m)\u001b[0m\u001b[0;34m)\u001b[0m\u001b[0;34m\u001b[0m\u001b[0m\n",
      "\u001b[0;32m<ipython-input-48-7ebc8952e9b8>\u001b[0m in \u001b[0;36mupdate_joint_probability\u001b[0;34m(jp, i, c)\u001b[0m\n\u001b[1;32m     26\u001b[0m \u001b[0;32mdef\u001b[0m \u001b[0mupdate_joint_probability\u001b[0m\u001b[0;34m(\u001b[0m\u001b[0mjp\u001b[0m\u001b[0;34m,\u001b[0m \u001b[0mi\u001b[0m\u001b[0;34m,\u001b[0m \u001b[0mc\u001b[0m\u001b[0;34m)\u001b[0m\u001b[0;34m:\u001b[0m\u001b[0;34m\u001b[0m\u001b[0m\n\u001b[1;32m     27\u001b[0m     \u001b[0;34m\"\"\" Get the value of the joint probability. \"\"\"\u001b[0m\u001b[0;34m\u001b[0m\u001b[0m\n\u001b[0;32m---> 28\u001b[0;31m     \u001b[0mjp\u001b[0m \u001b[0;34m-=\u001b[0m \u001b[0mnp\u001b[0m\u001b[0;34m.\u001b[0m\u001b[0mlog\u001b[0m\u001b[0;34m(\u001b[0m\u001b[0mpvgh\u001b[0m\u001b[0;34m(\u001b[0m\u001b[0mclean_sequence\u001b[0m\u001b[0;34m[\u001b[0m\u001b[0mi\u001b[0m\u001b[0;34m]\u001b[0m\u001b[0;34m,\u001b[0m \u001b[0mnoisy_sequence\u001b[0m\u001b[0;34m[\u001b[0m\u001b[0mi\u001b[0m\u001b[0;34m]\u001b[0m\u001b[0;34m)\u001b[0m\u001b[0;34m)\u001b[0m\u001b[0;34m\u001b[0m\u001b[0m\n\u001b[0m\u001b[1;32m     29\u001b[0m     \u001b[0mjp\u001b[0m \u001b[0;34m-=\u001b[0m \u001b[0mnp\u001b[0m\u001b[0;34m.\u001b[0m\u001b[0mlog\u001b[0m\u001b[0;34m(\u001b[0m\u001b[0mp2\u001b[0m\u001b[0;34m(\u001b[0m\u001b[0mclean_sequence\u001b[0m\u001b[0;34m[\u001b[0m\u001b[0mi\u001b[0m\u001b[0;34m]\u001b[0m\u001b[0;34m,\u001b[0m \u001b[0mclean_sequence\u001b[0m\u001b[0;34m[\u001b[0m\u001b[0mi\u001b[0m \u001b[0;34m+\u001b[0m \u001b[0;36m1\u001b[0m\u001b[0;34m]\u001b[0m\u001b[0;34m)\u001b[0m\u001b[0;34m)\u001b[0m \u001b[0;32mif\u001b[0m \u001b[0mi\u001b[0m \u001b[0;34m<\u001b[0m \u001b[0mlen\u001b[0m\u001b[0;34m(\u001b[0m\u001b[0mclean_sequence\u001b[0m\u001b[0;34m)\u001b[0m \u001b[0;34m-\u001b[0m \u001b[0;36m1\u001b[0m \u001b[0;32melse\u001b[0m \u001b[0;36m0\u001b[0m\u001b[0;34m\u001b[0m\u001b[0m\n\u001b[1;32m     30\u001b[0m     \u001b[0mjp\u001b[0m \u001b[0;34m-=\u001b[0m \u001b[0mnp\u001b[0m\u001b[0;34m.\u001b[0m\u001b[0mlog\u001b[0m\u001b[0;34m(\u001b[0m\u001b[0mp2\u001b[0m\u001b[0;34m(\u001b[0m\u001b[0mclean_sequence\u001b[0m\u001b[0;34m[\u001b[0m\u001b[0mi\u001b[0m \u001b[0;34m-\u001b[0m \u001b[0;36m1\u001b[0m\u001b[0;34m]\u001b[0m\u001b[0;34m,\u001b[0m \u001b[0mclean_sequence\u001b[0m\u001b[0;34m[\u001b[0m\u001b[0mi\u001b[0m\u001b[0;34m]\u001b[0m\u001b[0;34m)\u001b[0m\u001b[0;34m)\u001b[0m \u001b[0;32mif\u001b[0m \u001b[0mi\u001b[0m \u001b[0;34m>\u001b[0m \u001b[0;36m0\u001b[0m \u001b[0;32melse\u001b[0m \u001b[0;36m0\u001b[0m\u001b[0;34m\u001b[0m\u001b[0m\n",
      "\u001b[0;31mKeyboardInterrupt\u001b[0m: "
     ]
    }
   ],
   "source": [
    "def clean():\n",
    "    jp = joint_probability()\n",
    "    print(\"Initial joint probability {}\".format(jp))\n",
    "    #print(\"Initial sequence: {}\".format(''.join(clean_sequence)))\n",
    "    while True:\n",
    "        i = np.random.randint(len(clean_sequence))\n",
    "        c = list(alphabet)[np.random.randint(len(alphabet))]\n",
    "        new_jp = update_joint_probability(jp, i, c)\n",
    "        if new_jp > jp:\n",
    "            jp = new_jp\n",
    "            clean_sequence[i] = c\n",
    "            print(\"Found better sequence with log(p)={}\".format(new_jp))\n",
    "            print(''.join(clean_sequence))\n",
    "                \n",
    "                \n",
    "clean()"
   ]
  },
  {
   "cell_type": "code",
   "execution_count": null,
   "metadata": {},
   "outputs": [],
   "source": [
    "clean_sequence"
   ]
  }
 ],
 "metadata": {
  "kernelspec": {
   "display_name": "Python 3",
   "language": "python",
   "name": "python3"
  },
  "language_info": {
   "codemirror_mode": {
    "name": "ipython",
    "version": 3
   },
   "file_extension": ".py",
   "mimetype": "text/x-python",
   "name": "python",
   "nbconvert_exporter": "python",
   "pygments_lexer": "ipython3",
   "version": "3.7.0"
  }
 },
 "nbformat": 4,
 "nbformat_minor": 2
}
