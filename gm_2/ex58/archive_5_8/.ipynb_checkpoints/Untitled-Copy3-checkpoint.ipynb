{
 "cells": [
  {
   "cell_type": "code",
   "execution_count": 1,
   "metadata": {},
   "outputs": [],
   "source": [
    "import numpy as np\n",
    "from scipy.special import comb\n",
    "from matplotlib import pyplot as plt"
   ]
  },
  {
   "cell_type": "code",
   "execution_count": 2,
   "metadata": {},
   "outputs": [],
   "source": [
    "fnames = tuple([\"david\", \"anton\", \"fred\", \"jim\", \"barry\"])\n",
    "snames = tuple([\"barber\", \"ilsung\", \"fox\", \"chain\", \"fitzwilliam\", \"quinceadams\", \"grafvonunterhosen\"])\n",
    "alphabet = tuple([\"a\", \"b\", \"c\", \"d\", \"e\", \"f\", \"g\", \"h\", \"i\", \"j\", \"k\", \"l\", \"m\", \"n\", \"o\", \"p\", \"q\", \"r\", \"s\", \"t\", \"u\", \"v\", \"w\", \"x\", \"y\", \"z\"])"
   ]
  },
  {
   "cell_type": "code",
   "execution_count": 3,
   "metadata": {},
   "outputs": [
    {
     "data": {
      "text/plain": [
       "'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'"
      ]
     },
     "execution_count": 3,
     "metadata": {},
     "output_type": "execute_result"
    }
   ],
   "source": [
    "sequence_string = open(\"sequence.txt\", \"r\").read()\n",
    "#sequence_string = \"jiwakomwajndavidjkdwmkw\"\n",
    "sequence = np.array(list(sequence_string))\n",
    "sequence_string[152:]"
   ]
  },
  {
   "cell_type": "code",
   "execution_count": 6,
   "metadata": {},
   "outputs": [],
   "source": [
    "def p_random(n):\n",
    "    \"\"\" The probability of n random characters being written before\n",
    "    a name is written; it is a binomial model with n=n+1 and p=0.8. \"\"\"\n",
    "    return comb(n + 1, n) * (0.8 ** n) * (0.2 ** 1)\n",
    "\n",
    "\n",
    "def p_match(name, subsequence):\n",
    "    \"\"\" The probability that the subsequence was intended to be the\n",
    "    given name. \"\"\"\n",
    "    m = 0\n",
    "    n = len(name)\n",
    "    for i in range(0, n):\n",
    "        if name[i] == subsequence[i]:\n",
    "            m += 1\n",
    "    return comb(n, m) * (0.3 ** m) * (0.7 ** (n - m)) \n",
    "\n",
    "# Consider fixed length sliding windo\n",
    "    \n",
    "\n",
    "# def find(name, i):\n",
    "#     \"\"\" Returns the most likely location and probability of the given\n",
    "#     name being found in the sequence.\n",
    "    \n",
    "#     :param name: the string representing the name to be located\n",
    "#     :param i: the index of the sequence from where to look for \"\"\"\n",
    "#     subsequence = sequence[i:]\n",
    "#     n = len(name)\n",
    "#     p_, i_ = -1, None\n",
    "#     for j in range(0, len(subsequence) - len(name) + 1):\n",
    "#     #for j in range(0, 50):\n",
    "#         subsubsequence = subsequence[j:j+n]\n",
    "#         pm = p_match(name, subsubsequence)\n",
    "#         pr = p_random(j)\n",
    "#         p = pm * pr\n",
    "#         #print(\"sssq={}, pm={}, pr={}, p={}\".format(''.join(subsubsequence), pm, pr, p))\n",
    "#         if p > p_:\n",
    "#             p_ = p\n",
    "#             i_ = j\n",
    "#     return p_, i + i_\n",
    "\n",
    "\n",
    "# def find_name(is_fname, i):\n",
    "#     names = fnames if is_fname else snames\n",
    "#     p_, j_, name_ = -1, None, None\n",
    "#     for name in names:\n",
    "#         p, j = find(name, i)\n",
    "#         if p > p_:\n",
    "#             p_ = p\n",
    "#             j_ = j\n",
    "#             name_ = name\n",
    "#     return name_, j_, p_\n",
    "    \n",
    "# def solve():\n",
    "#     i = 1\n",
    "#     is_fname = True\n",
    "#     while True:\n",
    "#         name, j, p = find_name(is_fname, i)\n",
    "#         i = j + len(name) + 1\n",
    "#         is_fname = not is_fname\n",
    "#         print(\"name = {}, i = {}, p = {}\".format(name, j, p))"
   ]
  },
  {
   "cell_type": "code",
   "execution_count": null,
   "metadata": {},
   "outputs": [],
   "source": []
  },
  {
   "cell_type": "code",
   "execution_count": null,
   "metadata": {},
   "outputs": [],
   "source": []
  }
 ],
 "metadata": {
  "kernelspec": {
   "display_name": "Python 3",
   "language": "python",
   "name": "python3"
  },
  "language_info": {
   "codemirror_mode": {
    "name": "ipython",
    "version": 3
   },
   "file_extension": ".py",
   "mimetype": "text/x-python",
   "name": "python",
   "nbconvert_exporter": "python",
   "pygments_lexer": "ipython3",
   "version": "3.7.0"
  }
 },
 "nbformat": 4,
 "nbformat_minor": 2
}
