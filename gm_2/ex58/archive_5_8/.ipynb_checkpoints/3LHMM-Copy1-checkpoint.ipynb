{
 "cells": [
  {
   "cell_type": "markdown",
   "metadata": {},
   "source": [
    "This notebook attempts to approach question 5.8 with a 3-layered HMM."
   ]
  },
  {
   "cell_type": "code",
   "execution_count": 9,
   "metadata": {},
   "outputs": [],
   "source": [
    "import numpy as np"
   ]
  },
  {
   "cell_type": "code",
   "execution_count": 84,
   "metadata": {},
   "outputs": [],
   "source": [
    "alphabet = np.array([\"a\", \"b\", \"c\", \"d\", \"e\", \"f\", \"g\", \"h\", \"i\", \"j\", \"k\", \"l\", \"m\", \"n\", \"o\", \"p\", \"q\", \"r\", \"s\", \"t\", \"u\", \"v\", \"w\", \"x\", \"y\", \"z\"])\n",
    "N = np.size(alphabet)"
   ]
  },
  {
   "cell_type": "code",
   "execution_count": 87,
   "metadata": {},
   "outputs": [],
   "source": [
    "fnames = np.array([\"david\", \"anton\", \"fred\", \"jim\", \"barry\"])\n",
    "snames = np.array([\"barber\", \"ilsung\", \"fox\", \"chain\", \"fitzwilliam\", \"quinceadams\", \"grafvonunterhosen\"])"
   ]
  },
  {
   "cell_type": "code",
   "execution_count": 86,
   "metadata": {},
   "outputs": [
    {
     "data": {
      "text/plain": [
       "array(['r1', 'f1', 'f2', 'f3', 'f4', 'f5', 'r2', 's0', 's1', 's2', 's3',\n",
       "       's4', 's5', 's6', 's7', 's8', 's9', 's10', 's11', 's12', 's13',\n",
       "       's14', 's15', 's16', 's17'], dtype='<U3')"
      ]
     },
     "execution_count": 86,
     "metadata": {},
     "output_type": "execute_result"
    }
   ],
   "source": [
    "states = np.array([\"r1\", \"f1\", \"f2\", \"f3\", \"f4\", \"f5\", \"r2\", \"s0\", \"s1\", \"s2\", \"s3\", \"s4\", \"s5\", \"s6\", \"s7\", \"s8\", \"s9\", \"s10\", \"s11\", \"s12\", \"s13\", \"s14\", \"s15\", \"s16\", \"s17\", ])\n",
    "K = np.size(states)"
   ]
  },
  {
   "cell_type": "code",
   "execution_count": 105,
   "metadata": {},
   "outputs": [],
   "source": [
    "def probability_name_longer_than(names, n):\n",
    "    \"\"\" Returns the probability of a name in the given names being longer\n",
    "    than the given number of characters. \"\"\"\n",
    "    c = t = 0\n",
    "    for name in names:\n",
    "        if len(name) >= n:\n",
    "            t += 1\n",
    "            if len(name) > n:\n",
    "                c += 1\n",
    "    return c / t\n",
    "        \n",
    "\n",
    "ss = np.zeros((K, K))\n",
    "for i, x in enumerate(states):\n",
    "    for j, y in enumerate(states):\n",
    "        if x == \"r1\":\n",
    "            if y == \"r1\":\n",
    "                ss[i][j] = 0.8\n",
    "            elif y == \"f1\":\n",
    "                ss[i][j] = 0.2\n",
    "            else:\n",
    "                ss[i][j] = 0.0\n",
    "        elif x == \"r2\":\n",
    "            if y == \"r2\":\n",
    "                ss[i][j] = 0.8\n",
    "            elif y == \"s1\":\n",
    "                ss[i][j] = 0.2\n",
    "            else:\n",
    "                ss[i][j] = 0.0\n",
    "        elif x.startswith(\"f\"):\n",
    "            if y.startswith(\"f\") and int(x[1:]) + 1 == int(y[1:]):\n",
    "                ss[i][j] = probability_name_longer_than(fnames, int(x[1:]))\n",
    "            elif y == \"r2\":\n",
    "                ss[i][j] = 1 - probability_name_longer_than(fnames, int(x[1:]))\n",
    "            else:\n",
    "                ss[i][j] = 0.0\n",
    "        elif x.startswith(\"s\"):\n",
    "            if y.startswith(\"s\") and int(x[1:]) + 1 == int(y[1:]):\n",
    "                ss[i][j] = probability_name_longer_than(snames, int(x[1:]))\n",
    "            elif y == \"r1\":\n",
    "                ss[i][j] = 1 - probability_name_longer_than(snames, int(x[1:]))\n",
    "            else:\n",
    "                ss[i][j] = 0.0"
   ]
  },
  {
   "cell_type": "code",
   "execution_count": 215,
   "metadata": {},
   "outputs": [
    {
     "data": {
      "text/plain": [
       "0.70447"
      ]
     },
     "execution_count": 215,
     "metadata": {},
     "output_type": "execute_result"
    }
   ],
   "source": [
    "t = 100000\n",
    "c = np.zeros((t))\n",
    "n = np.zeros((t))\n",
    "for i in range(t):\n",
    "    x = np.random.randint(1, 27)\n",
    "    c[i] = x\n",
    "    if np.random.uniform(0, 1) < 0.3:\n",
    "        n[i] = x\n",
    "    else:\n",
    "        y = np.random.randint(1, 27)\n",
    "        while y == x:\n",
    "            y = np.random.randint(1, 27)\n",
    "        n[i] = y\n",
    "            \n",
    "\n",
    "z = 0.0\n",
    "for i in range(t):\n",
    "    if c[i] == 13 and n[i] != 13:\n",
    "        z += 1\n",
    "26 * z / t"
   ]
  },
  {
   "cell_type": "code",
   "execution_count": 208,
   "metadata": {},
   "outputs": [
    {
     "data": {
      "text/plain": [
       "0.28846153846153844"
      ]
     },
     "execution_count": 208,
     "metadata": {},
     "output_type": "execute_result"
    }
   ],
   "source": [
    "0.3 * 25 / 26"
   ]
  }
 ],
 "metadata": {
  "kernelspec": {
   "display_name": "Python 3",
   "language": "python",
   "name": "python3"
  },
  "language_info": {
   "codemirror_mode": {
    "name": "ipython",
    "version": 3
   },
   "file_extension": ".py",
   "mimetype": "text/x-python",
   "name": "python",
   "nbconvert_exporter": "python",
   "pygments_lexer": "ipython3",
   "version": "3.7.0"
  }
 },
 "nbformat": 4,
 "nbformat_minor": 2
}
