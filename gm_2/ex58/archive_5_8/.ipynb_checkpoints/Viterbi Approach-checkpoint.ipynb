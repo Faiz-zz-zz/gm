{
 "cells": [
  {
   "cell_type": "markdown",
   "metadata": {},
   "source": [
    "### Exercise 5.8\n",
    "In this exercise, a sequence of characters is provided along with an explanation of how the sequence is generated and how noise is added to it. The task is to find the most probable denoised sequence."
   ]
  },
  {
   "cell_type": "code",
   "execution_count": 2,
   "metadata": {},
   "outputs": [],
   "source": [
    "import numpy as np"
   ]
  },
  {
   "cell_type": "code",
   "execution_count": 4,
   "metadata": {},
   "outputs": [],
   "source": [
    "fnames = \"david\", \"anton\", \"fred\", \"jim\", \"barry\"\n",
    "snames = \"barber\", \"ilsung\", \"fox\", \"chain\", \"fitzwilliam\", \"quinceadams\", \"grafvonunterhosen\"\n",
    "alphabet = \"a\", \"b\", \"c\", \"d\", \"e\", \"f\", \"g\", \"h\", \"i\", \"j\", \"k\", \"l\", \"m\", \"n\", \"o\", \"p\", \"q\", \"r\", \"s\", \"t\", \"u\", \"v\", \"w\", \"x\", \"y\", \"z\"\n",
    "sequence = tuple(open(\"sequence.txt\", \"r\").read())"
   ]
  },
  {
   "cell_type": "code",
   "execution_count": 53,
   "metadata": {},
   "outputs": [],
   "source": [
    "def max_len(strings):\n",
    "    \"\"\" Returns the length of the longest string in a collection of strings. \"\"\"\n",
    "    l = 0\n",
    "    for string in strings:\n",
    "        l = max(l, len(string))\n",
    "    return l\n",
    "\n",
    "fnames_range = 1, max_len(fnames)\n",
    "snames_range = 1, max_len(snames)"
   ]
  },
  {
   "cell_type": "code",
   "execution_count": 89,
   "metadata": {},
   "outputs": [],
   "source": [
    "r1 = [\"r1\"]\n",
    "fs = [\"f{}\".format(n) for n in range(1, fnames_range[1] + 1)]\n",
    "r2 = [\"r2\"]\n",
    "ss = [\"s{}\".format(n) for n in range(1, snames_range[1] + 1)]\n",
    "states = r1 + fs + r2 + ss"
   ]
  },
  {
   "cell_type": "code",
   "execution_count": 75,
   "metadata": {},
   "outputs": [],
   "source": [
    "def p(name_type, i):\n",
    "    \"\"\" Returns the probability that a name that has at least i characters \n",
    "    has at least one more character. \"\"\"\n",
    "    names = fnames if name_type == \"f\" else snames\n",
    "    c, t = 0, 0\n",
    "    for name in names:\n",
    "        if len(name) >= i:\n",
    "            t += 1\n",
    "            if len(name) >= i + 1:\n",
    "                c += 1\n",
    "    return c / t\n",
    "\n",
    "transition = {}\n",
    "for state1 in states:\n",
    "    transition[state1] = {}\n",
    "    for state2 in states:\n",
    "        if state1 == \"r1\":\n",
    "            if state2 == \"r1\":\n",
    "                transition[state1][state2] = 0.8\n",
    "            elif state2 == \"f1\":\n",
    "                transition[state1][state2] = 0.2\n",
    "            else:\n",
    "                transition[state1][state2] = 0.0\n",
    "        elif state1 == \"r2\":\n",
    "            if state2 == \"r2\":\n",
    "                transition[state1][state2] = 0.8\n",
    "            elif state2 == \"s1\":\n",
    "                transition[state1][state2] = 0.2\n",
    "            else:\n",
    "                transition[state1][state2] = 0.0\n",
    "        elif state1.startswith(\"f\"):\n",
    "            i = int(state1[1])\n",
    "            if state2.startswith(\"f\"):\n",
    "                j = int(state2[1])\n",
    "                if j == i + 1:\n",
    "                    transition[state1][state2] = p(\"f\", i)\n",
    "                else:\n",
    "                    transition[state1][state2] = 0.0\n",
    "            elif state2 == \"r2\":\n",
    "                transition[state1][state2] = 1 - p(\"f\", i)\n",
    "            else:\n",
    "                transition[state1][state2] = 0.0\n",
    "        elif state1.startswith(\"s\"):\n",
    "            i = int(state1[1])\n",
    "            if state2.startswith(\"s\"):\n",
    "                j = int(state2[1])\n",
    "                if j == i + 1:\n",
    "                    transition[state1][state2] = p(\"s\", i)\n",
    "                else:\n",
    "                    transition[state1][state2] = 0.0\n",
    "            elif state2 == \"r1\":\n",
    "                transition[state1][state2] = 1 - p(\"s\", i)\n",
    "            else:\n",
    "                transition[state1][state2] = 0.0"
   ]
  },
  {
   "cell_type": "code",
   "execution_count": 78,
   "metadata": {},
   "outputs": [],
   "source": [
    "emission = {}\n",
    "for a in alphabet:\n",
    "    emission[a] = {}\n",
    "    for b in alphabet:\n",
    "        emission[a][b] = (a == b) * 0.3 + (a != b) * 0.7 / 26"
   ]
  },
  {
   "cell_type": "code",
   "execution_count": 84,
   "metadata": {},
   "outputs": [],
   "source": [
    "p1 = {}\n",
    "for state in states:\n",
    "    p1[state] = 1.0 if state == \"r1\" else 0.0"
   ]
  },
  {
   "cell_type": "code",
   "execution_count": 86,
   "metadata": {},
   "outputs": [
    {
     "ename": "KeyError",
     "evalue": "'r1'",
     "output_type": "error",
     "traceback": [
      "\u001b[0;31m---------------------------------------------------------------------------\u001b[0m",
      "\u001b[0;31mKeyError\u001b[0m                                  Traceback (most recent call last)",
      "\u001b[0;32m<ipython-input-86-7ac74d650fa8>\u001b[0m in \u001b[0;36m<module>\u001b[0;34m()\u001b[0m\n\u001b[1;32m      6\u001b[0m     \u001b[0;32mreturn\u001b[0m \u001b[0mt1\u001b[0m\u001b[0;34m,\u001b[0m \u001b[0mt2\u001b[0m\u001b[0;34m\u001b[0m\u001b[0m\n\u001b[1;32m      7\u001b[0m \u001b[0;34m\u001b[0m\u001b[0m\n\u001b[0;32m----> 8\u001b[0;31m \u001b[0mviterbi\u001b[0m\u001b[0;34m(\u001b[0m\u001b[0;34m)\u001b[0m\u001b[0;34m\u001b[0m\u001b[0m\n\u001b[0m",
      "\u001b[0;32m<ipython-input-86-7ac74d650fa8>\u001b[0m in \u001b[0;36mviterbi\u001b[0;34m()\u001b[0m\n\u001b[1;32m      2\u001b[0m     \u001b[0mt1\u001b[0m\u001b[0;34m,\u001b[0m \u001b[0mt2\u001b[0m \u001b[0;34m=\u001b[0m \u001b[0;34m{\u001b[0m\u001b[0;34m}\u001b[0m\u001b[0;34m,\u001b[0m \u001b[0;34m{\u001b[0m\u001b[0;34m}\u001b[0m\u001b[0;34m\u001b[0m\u001b[0m\n\u001b[1;32m      3\u001b[0m     \u001b[0;32mfor\u001b[0m \u001b[0mstate\u001b[0m \u001b[0;32min\u001b[0m \u001b[0mstates\u001b[0m\u001b[0;34m:\u001b[0m\u001b[0;34m\u001b[0m\u001b[0m\n\u001b[0;32m----> 4\u001b[0;31m         \u001b[0mt1\u001b[0m\u001b[0;34m[\u001b[0m\u001b[0mstate\u001b[0m\u001b[0;34m]\u001b[0m \u001b[0;34m=\u001b[0m \u001b[0;34m[\u001b[0m\u001b[0mp1\u001b[0m\u001b[0;34m[\u001b[0m\u001b[0mstate\u001b[0m\u001b[0;34m]\u001b[0m \u001b[0;34m*\u001b[0m \u001b[0memission\u001b[0m\u001b[0;34m[\u001b[0m\u001b[0mstate\u001b[0m\u001b[0;34m]\u001b[0m\u001b[0;34m[\u001b[0m\u001b[0msequence\u001b[0m\u001b[0;34m[\u001b[0m\u001b[0;36m0\u001b[0m\u001b[0;34m]\u001b[0m\u001b[0;34m]\u001b[0m\u001b[0;34m]\u001b[0m\u001b[0;34m\u001b[0m\u001b[0m\n\u001b[0m\u001b[1;32m      5\u001b[0m         \u001b[0mt2\u001b[0m\u001b[0;34m[\u001b[0m\u001b[0mstate\u001b[0m\u001b[0;34m]\u001b[0m \u001b[0;34m=\u001b[0m \u001b[0;34m[\u001b[0m\u001b[0;36m0\u001b[0m\u001b[0;34m]\u001b[0m\u001b[0;34m\u001b[0m\u001b[0m\n\u001b[1;32m      6\u001b[0m     \u001b[0;32mreturn\u001b[0m \u001b[0mt1\u001b[0m\u001b[0;34m,\u001b[0m \u001b[0mt2\u001b[0m\u001b[0;34m\u001b[0m\u001b[0m\n",
      "\u001b[0;31mKeyError\u001b[0m: 'r1'"
     ]
    }
   ],
   "source": [
    "def viterbi():\n",
    "    t1, t2 = {}, {}\n",
    "    for state in states:\n",
    "        t1[state] = [p1[state] * emission[state][sequence[0]]]\n",
    "        t2[state] = [0]\n",
    "    return t1, t2\n",
    "\n",
    "viterbi()"
   ]
  }
 ],
 "metadata": {
  "kernelspec": {
   "display_name": "Python 3",
   "language": "python",
   "name": "python3"
  },
  "language_info": {
   "codemirror_mode": {
    "name": "ipython",
    "version": 3
   },
   "file_extension": ".py",
   "mimetype": "text/x-python",
   "name": "python",
   "nbconvert_exporter": "python",
   "pygments_lexer": "ipython3",
   "version": "3.7.0"
  }
 },
 "nbformat": 4,
 "nbformat_minor": 2
}
