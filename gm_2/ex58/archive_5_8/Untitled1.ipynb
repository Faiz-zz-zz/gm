{
 "cells": [
  {
   "cell_type": "code",
   "execution_count": 2,
   "metadata": {},
   "outputs": [],
   "source": [
    "import numpy as np"
   ]
  },
  {
   "cell_type": "code",
   "execution_count": 39,
   "metadata": {},
   "outputs": [],
   "source": [
    "fnames = {\"david\", \"anton\", \"fred\", \"jim\", \"barry\"}\n",
    "snames = {\"barber\", \"ilsung\", \"fox\", \"chain\", \"fitzwilliam\", \"quinceadams\", \"grafvonunterhosen\"}\n",
    "alphabet = {\"a\", \"b\", \"c\", \"d\", \"e\", \"f\", \"g\", \"h\", \"i\", \"j\", \"k\", \"l\", \"m\", \"n\", \"o\", \"p\", \"q\", \"r\", \"s\", \"t\", \"u\", \"v\", \"w\", \"x\", \"y\", \"z\"}\n",
    "# visible = np.array(list(open(\"sequence.txt\", \"r\").read()))\n",
    "# hidden = np.array(list(open(\"sequence.txt\", \"r\").read()))\n",
    "visible = np.array(list(\"mjoewjioborberkmldklm\"))\n",
    "hidden = np.array(list(\"mjoewjioborberkmldklm\"))\n",
    "N = np.size(visible)"
   ]
  },
  {
   "cell_type": "code",
   "execution_count": 40,
   "metadata": {},
   "outputs": [],
   "source": [
    "def count(a, b):\n",
    "    names = fnames.union(snames)\n",
    "    count, total = 0, 0\n",
    "    for name in names:\n",
    "        count += name.count(str(a + b))\n",
    "        total += len(name) - 1\n",
    "    return count / total\n",
    "\n",
    "def phgv(h, v):\n",
    "    \"\"\" Returns the probability of observing hidden state h given\n",
    "    visible state v p(h | v).\"\"\"\n",
    "    return (h == v) * 0.3 + (h != v) * 0.7 / 25\n",
    "\n",
    "def pv(v):\n",
    "    \"\"\" Returns the probability of observing visible state v p(v). \"\"\"\n",
    "    return np.size(np.where(visible == v)) / N\n",
    "\n",
    "def pvgh(v, h):\n",
    "    \"\"\" Returns the (propto) probability of observing visible state\n",
    "    v given hidden state h, p(v | h). \"\"\"\n",
    "    return phgv(h, v) * pv(v)\n",
    "\n",
    "def phh(h1, h0):\n",
    "    \"\"\" Returns the probability of observing hidden state h1 given\n",
    "    the previous hidden state h0. \"\"\"\n",
    "    return 0.2 * count(h0, h1) + 0.8 * 1 / 26\n",
    "    \n",
    "def joint():\n",
    "    j = np.log((1 / 26) * pvgh(visible[0], hidden[0]))\n",
    "    for i in range(1, N):\n",
    "        j += np.log(phh(hidden[i], hidden[i - 1]) * pvgh(visible[i], hidden[i]))\n",
    "    return j"
   ]
  },
  {
   "cell_type": "code",
   "execution_count": 43,
   "metadata": {},
   "outputs": [
    {
     "data": {
      "text/plain": [
       "0.028985507246376812"
      ]
     },
     "execution_count": 43,
     "metadata": {},
     "output_type": "execute_result"
    }
   ],
   "source": [
    "count(\"b\", \"a\")"
   ]
  }
 ],
 "metadata": {
  "kernelspec": {
   "display_name": "Python 3",
   "language": "python",
   "name": "python3"
  },
  "language_info": {
   "codemirror_mode": {
    "name": "ipython",
    "version": 3
   },
   "file_extension": ".py",
   "mimetype": "text/x-python",
   "name": "python",
   "nbconvert_exporter": "python",
   "pygments_lexer": "ipython3",
   "version": "3.7.0"
  }
 },
 "nbformat": 4,
 "nbformat_minor": 2
}
