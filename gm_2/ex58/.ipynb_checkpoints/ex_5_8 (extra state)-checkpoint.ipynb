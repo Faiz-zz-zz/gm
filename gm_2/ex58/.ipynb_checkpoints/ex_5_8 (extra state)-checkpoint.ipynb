{
 "cells": [
  {
   "cell_type": "code",
   "execution_count": 13,
   "metadata": {},
   "outputs": [],
   "source": [
    "import numpy as np"
   ]
  },
  {
   "cell_type": "markdown",
   "metadata": {},
   "source": [
    "Some first names and surnames are given, based on the English (lowercase) alphabet."
   ]
  },
  {
   "cell_type": "code",
   "execution_count": 14,
   "metadata": {},
   "outputs": [],
   "source": [
    "fnames = \"david\", \"anton\", \"fred\", \"jim\", \"barry\"\n",
    "snames = \"barber\", \"ilsung\", \"fox\", \"chain\", \"fitzwilliam\", \"quinceadams\", \"grafvonunterhosen\""
   ]
  },
  {
   "cell_type": "code",
   "execution_count": 15,
   "metadata": {},
   "outputs": [],
   "source": [
    "alphabet = \"a\", \"b\", \"c\", \"d\", \"e\", \"f\", \"g\", \"h\", \"i\", \"j\", \"k\", \"l\", \"m\", \"n\", \"o\", \"p\", \"q\", \"r\", \"s\", \"t\", \"u\", \"v\", \"w\", \"x\", \"y\", \"z\""
   ]
  },
  {
   "cell_type": "code",
   "execution_count": 16,
   "metadata": {},
   "outputs": [],
   "source": [
    "sequence = tuple((open(\"sequence.txt\", \"r\")).read())\n",
    "T = len(sequence)"
   ]
  },
  {
   "cell_type": "code",
   "execution_count": 17,
   "metadata": {},
   "outputs": [],
   "source": [
    "tp = \"\"\n",
    "for char in sequence:\n",
    "    tp += \"{},\".format(alphabet.index(char) + 1)"
   ]
  },
  {
   "cell_type": "code",
   "execution_count": 18,
   "metadata": {},
   "outputs": [],
   "source": [
    "states_to_char = {}\n",
    "states_to_char[\"r-0\"] = \" \"\n",
    "states_to_char[\"r-1\"] = \" \"\n",
    "states_to_char[\"r-2\"] = \" \"\n",
    "states = [\"r-0\"]\n",
    "for i, name in enumerate(fnames):\n",
    "    for j, char in enumerate(name):\n",
    "        state = \"f-{}-{}\".format(i, j)\n",
    "        states_to_char[state] = char\n",
    "        states.append(state)\n",
    "states += [\"r-1\"]\n",
    "for i, name in enumerate(snames):\n",
    "    for j, char in enumerate(name):\n",
    "        state = \"s-{}-{}\".format(i, j)\n",
    "        states_to_char[state] = char\n",
    "        states.append(state)\n",
    "states += [\"r-2\"]"
   ]
  },
  {
   "cell_type": "markdown",
   "metadata": {},
   "source": [
    "The transitions operate as follows:\n",
    "* A state of either random character generator switches to another state of the same random character generator with probability $0.8 \\times \\frac{1}{26}$.\n",
    "* A state of either random character generator switches to the state of the first character of a name with probability $0.2 \\times \\frac{1}{|\\mathcal{N}|}$, where $\\mathcal{N}$ is the set of names (first names for the first random generator and surname for the second generator)\n",
    "* A state of a character of a name switches to the state of the next character for that name with probability $1.0$, unless it's the last character in which case it would switch to the state of a character of the following random generator with probability $\\frac{1}{26}$"
   ]
  },
  {
   "cell_type": "code",
   "execution_count": 19,
   "metadata": {},
   "outputs": [],
   "source": [
    "A = {}\n",
    "for a in states:\n",
    "    A[a] = {}\n",
    "    for b in states:\n",
    "        if a == \"r-0\":\n",
    "            if b == \"r-0\":\n",
    "                A[a][b] = 0.8\n",
    "            elif b.startswith(\"f-\") and b.endswith(\"-0\"):\n",
    "                A[a][b] = 0.2 / len(fnames)\n",
    "            else:\n",
    "                A[a][b] = 0.0\n",
    "        elif a == \"r-1\":\n",
    "            if b == \"r-1\":\n",
    "                A[a][b] = 0.8\n",
    "            elif b.startswith(\"s-\") and b.endswith(\"-0\"):\n",
    "                A[a][b] = 0.2 / len(snames)\n",
    "            else:\n",
    "                A[a][b] = 0.0\n",
    "        elif a == \"r-2\":\n",
    "            if b == \"r-0\":\n",
    "                A[a][b] = 1.0\n",
    "            else:\n",
    "                A[a][b] = 0.0\n",
    "        elif a.startswith(\"f-\"):\n",
    "            name_i, char_i = int((a.split(\"-\"))[1]), int((a.split(\"-\"))[2])\n",
    "            next_name_state = \"f-{}-{}\".format(str(name_i), str(char_i + 1))\n",
    "            if next_name_state in states:\n",
    "                A[a][b] = 1 if b == next_name_state else 0\n",
    "            else:\n",
    "                A[a][b] = 1 if b.startswith(\"r-1\") else 0\n",
    "        elif a.startswith(\"s-\"):\n",
    "            name_i, char_i = int((a.split(\"-\"))[1]), int((a.split(\"-\"))[2])\n",
    "            next_name_state = \"s-{}-{}\".format(str(name_i), str(char_i + 1))\n",
    "            if next_name_state in states:\n",
    "                A[a][b] = 1 if b == next_name_state else 0\n",
    "            else:\n",
    "                A[a][b] = 1 if b.startswith(\"r-2\") else 0"
   ]
  },
  {
   "cell_type": "code",
   "execution_count": 20,
   "metadata": {},
   "outputs": [],
   "source": [
    "B = {}\n",
    "for state in states:\n",
    "    B[state] = {}\n",
    "    for char in alphabet:\n",
    "        if state.startswith(\"r-\"):\n",
    "            B[state][char] = 1 / 26\n",
    "        else:\n",
    "            B[state][char] = (char == states_to_char[state]) * 0.3 + (char != states_to_char[state]) * 0.7 / 25"
   ]
  },
  {
   "cell_type": "code",
   "execution_count": 21,
   "metadata": {},
   "outputs": [],
   "source": [
    "I = {}\n",
    "for state in states:\n",
    "    I[state] = 1 if state == \"r-0\" else 0"
   ]
  },
  {
   "cell_type": "code",
   "execution_count": 22,
   "metadata": {},
   "outputs": [],
   "source": [
    "from decimal import Decimal\n",
    "\n",
    "def viterbi():\n",
    "    t1, t2 = {}, {}\n",
    "    for i, state in enumerate(states):\n",
    "        t1[state], t2[state] = [], []\n",
    "        t1[state] += [Decimal(I[state] * B[state][sequence[0]])]\n",
    "        t2[state] += [Decimal(0)]\n",
    "    for i_, o in enumerate(sequence[1:]):\n",
    "        i = i_ + 1\n",
    "        for j, state in enumerate(states):\n",
    "            maxk, argmaxk = 0, 0\n",
    "            for k, s in enumerate(states):\n",
    "                x = t1[s][i - 1] * Decimal(A[s][state]) * Decimal(B[state][sequence[i]])\n",
    "                if x > maxk:\n",
    "                    maxk = x\n",
    "                    argmaxk = s\n",
    "            t1[state] += [maxk]\n",
    "            t2[state] += [argmaxk]\n",
    "    z_max, z_argmax = 0, 0\n",
    "    for i, state in enumerate(states):\n",
    "        if t1[state][T - 1] > z_max:\n",
    "            z_max = t1[state][T - 1]\n",
    "            z_argmax = state\n",
    "    z = [z_argmax]\n",
    "    x = [states_to_char[z_argmax]]\n",
    "    for t in range(T - 1, 0, -1):\n",
    "        v = t2[z[0]][t]\n",
    "        z.insert(0, v)\n",
    "        x.insert(0, states_to_char[v])\n",
    "    return x\n",
    "\n",
    "v = viterbi()"
   ]
  },
  {
   "cell_type": "code",
   "execution_count": 23,
   "metadata": {},
   "outputs": [
    {
     "data": {
      "text/plain": [
       "'       david        quinceadams    david     quinceadams      david          fitzwilliam            '"
      ]
     },
     "execution_count": 23,
     "metadata": {},
     "output_type": "execute_result"
    }
   ],
   "source": [
    "''.join(v)"
   ]
  },
  {
   "cell_type": "code",
   "execution_count": 35,
   "metadata": {},
   "outputs": [],
   "source": [
    "clean_sequence = ''.join(v)"
   ]
  },
  {
   "cell_type": "code",
   "execution_count": 36,
   "metadata": {},
   "outputs": [],
   "source": [
    "elements = clean_sequence.split(\" \")\n",
    "names = []\n",
    "for element in elements:\n",
    "    if element != \"\":\n",
    "        names.append(element)"
   ]
  },
  {
   "cell_type": "code",
   "execution_count": 37,
   "metadata": {},
   "outputs": [
    {
     "name": "stdout",
     "output_type": "stream",
     "text": [
      "david: 66\n",
      "anton: 69\n",
      "fred: 67\n",
      "jim: 92\n",
      "barry: 70\n",
      "barber: 39\n",
      "ilsung: 28\n",
      "fox: 39\n",
      "chain: 57\n",
      "fitzwilliam: 73\n",
      "quinceadams: 49\n",
      "grafvonunterhosen: 78\n"
     ]
    }
   ],
   "source": [
    "for name in fnames + snames:\n",
    "    n = clean_sequence.count(name)\n",
    "    print(\"{}: {}\".format(name, n))"
   ]
  },
  {
   "cell_type": "code",
   "execution_count": 38,
   "metadata": {},
   "outputs": [
    {
     "data": {
      "text/plain": [
       "{'david': {'quinceadams': 9,\n",
       "  'fitzwilliam': 16,\n",
       "  'chain': 11,\n",
       "  'ilsung': 4,\n",
       "  'grafvonunterhosen': 10,\n",
       "  'fox': 8,\n",
       "  'barber': 7},\n",
       " 'jim': {'fitzwilliam': 20,\n",
       "  'ilsung': 9,\n",
       "  'grafvonunterhosen': 19,\n",
       "  'fox': 8,\n",
       "  'barber': 8,\n",
       "  'chain': 16,\n",
       "  'quinceadams': 12},\n",
       " 'barry': {'quinceadams': 9,\n",
       "  'fitzwilliam': 8,\n",
       "  'grafvonunterhosen': 19,\n",
       "  'chain': 10,\n",
       "  'ilsung': 5,\n",
       "  'fox': 10,\n",
       "  'barber': 9},\n",
       " 'anton': {'barber': 9,\n",
       "  'ilsung': 5,\n",
       "  'grafvonunterhosen': 11,\n",
       "  'quinceadams': 11,\n",
       "  'fox': 4,\n",
       "  'fitzwilliam': 19,\n",
       "  'chain': 10},\n",
       " 'fred': {'grafvonunterhosen': 19,\n",
       "  'chain': 10,\n",
       "  'barber': 6,\n",
       "  'quinceadams': 8,\n",
       "  'fitzwilliam': 10,\n",
       "  'fox': 9,\n",
       "  'ilsung': 5}}"
      ]
     },
     "execution_count": 38,
     "metadata": {},
     "output_type": "execute_result"
    }
   ],
   "source": [
    "occ = {}\n",
    "for i, name in enumerate(names):\n",
    "    if i % 2 == 1:\n",
    "        first_name = names[i - 1]\n",
    "        surname = names[i]\n",
    "        if first_name not in occ:\n",
    "            occ[first_name] = {}\n",
    "        if surname not in occ[first_name]:\n",
    "            occ[first_name][surname] = 0\n",
    "        occ[first_name][surname] += 1\n",
    "occ\n",
    "    "
   ]
  },
  {
   "cell_type": "code",
   "execution_count": null,
   "metadata": {},
   "outputs": [],
   "source": []
  }
 ],
 "metadata": {
  "kernelspec": {
   "display_name": "Python 3",
   "language": "python",
   "name": "python3"
  },
  "language_info": {
   "codemirror_mode": {
    "name": "ipython",
    "version": 3
   },
   "file_extension": ".py",
   "mimetype": "text/x-python",
   "name": "python",
   "nbconvert_exporter": "python",
   "pygments_lexer": "ipython3",
   "version": "3.7.1"
  }
 },
 "nbformat": 4,
 "nbformat_minor": 2
}
