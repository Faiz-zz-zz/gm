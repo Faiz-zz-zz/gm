{
 "cells": [
  {
   "cell_type": "code",
   "execution_count": 1,
   "metadata": {},
   "outputs": [],
   "source": [
    "import numpy as np \n",
    "import scipy.io \n",
    "mat = scipy.io.loadmat('BearBullproblem.mat')\n",
    "bull = mat['pbull']\n",
    "bear = mat['pbear']\n",
    "prices = mat['p'][0]"
   ]
  },
  {
   "cell_type": "code",
   "execution_count": 8,
   "metadata": {},
   "outputs": [],
   "source": [
    "T = len(prices)"
   ]
  },
  {
   "cell_type": "code",
   "execution_count": 41,
   "metadata": {},
   "outputs": [],
   "source": [
    "def p_transition(x, y):\n",
    "    \"\"\" Returns the probability of transiting from state x to y. \"\"\"\n",
    "    if x == \"bear\" and y ==\"bear\":\n",
    "        return 0.8\n",
    "    elif x == \"bear\" and y == \"bull\":\n",
    "        return 0.2\n",
    "    elif x == \"bull\" and y ==\"bull\":\n",
    "        return 0.7\n",
    "    elif x == \"bull\" and y == \"bear\":\n",
    "        return 0.3"
   ]
  },
  {
   "cell_type": "code",
   "execution_count": 42,
   "metadata": {},
   "outputs": [],
   "source": [
    "def p_emission(x, y, z):\n",
    "    \"\"\" Returns the probability p(v_t = x | h_t = y, v_{t-1} = z) \"\"\"\n",
    "    return bear[x][z] if y == \"bear\" else bull[x][z]"
   ]
  },
  {
   "cell_type": "code",
   "execution_count": 43,
   "metadata": {},
   "outputs": [],
   "source": [
    "alphas = {\"bear\":[0.5],\"bull\":[0.5]}"
   ]
  },
  {
   "cell_type": "code",
   "execution_count": 79,
   "metadata": {},
   "outputs": [],
   "source": [
    "for t in range(1, T):\n",
    "    for a in [\"bear\", \"bull\"]:\n",
    "        alpha = p_emission(prices[t], a, prices[t-1])\n",
    "        tmp = 0\n",
    "        for b in [\"bear\", \"bull\"]:\n",
    "            tmp += p_transition(b, a) * alphas[b][t - 1]\n",
    "        alphas[a] += [alpha * tmp]\n",
    "    n = alphas[\"bear\"][t] + alphas[\"bull\"][t]\n",
    "    alphas[\"bear\"][t] /= n\n",
    "    alphas[\"bull\"][t] /= n\n",
    "        "
   ]
  },
  {
   "cell_type": "code",
   "execution_count": 142,
   "metadata": {},
   "outputs": [],
   "source": [
    "# for i in range(0, T):\n",
    "#     a, b = alphas[\"bear\"][i], alphas[\"bull\"][i]\n",
    "#     print(\"{} - {} - {}\".format(a, b, a > b))"
   ]
  },
  {
   "cell_type": "code",
   "execution_count": 83,
   "metadata": {},
   "outputs": [],
   "source": [
    "# Probability of being in state bull and bear at the last time step\n",
    "p_bull_t = alphas[\"bull\"][-1] / (alphas[\"bull\"][-1] + alphas[\"bear\"][-1])\n",
    "p_bear_t = 1 - p_bull"
   ]
  },
  {
   "cell_type": "code",
   "execution_count": 87,
   "metadata": {},
   "outputs": [],
   "source": [
    "# Predicted probability of being in state bear and bull after the observed time steps\n",
    "p_bear = p_bear_t * p_transition(\"bear\", \"bear\") + p_bull_t * p_transition(\"bull\", \"bear\")\n",
    "p_bull = 1 - p_bear"
   ]
  },
  {
   "cell_type": "code",
   "execution_count": 124,
   "metadata": {},
   "outputs": [],
   "source": [
    "price = prices[-1]"
   ]
  },
  {
   "cell_type": "code",
   "execution_count": 143,
   "metadata": {},
   "outputs": [],
   "source": [
    "p_values = []\n",
    "for next_price in range(0, 100):\n",
    "    prob = p_bear * p_emission(next_price, \"bear\", price) + p_bull * p_emission(next_price, \"bull\", price)\n",
    "    p_values.append(prob)"
   ]
  },
  {
   "cell_type": "code",
   "execution_count": 150,
   "metadata": {},
   "outputs": [
    {
     "data": {
      "text/plain": [
       "4.211641658081237e-05"
      ]
     },
     "execution_count": 150,
     "metadata": {},
     "output_type": "execute_result"
    }
   ],
   "source": [
    "p_values[89]"
   ]
  },
  {
   "cell_type": "code",
   "execution_count": 168,
   "metadata": {},
   "outputs": [],
   "source": [
    "gain = 0\n",
    "gain_sq = 0\n",
    "for next_price in range(0, 100):\n",
    "    gain += p_values[next_price] * (next_price - price)\n",
    "    gain_sq += p_values[next_price] * ((next_price - price) ** 2)\n",
    "std = np.sqrt(gain_sq - gain ** 2)"
   ]
  },
  {
   "cell_type": "code",
   "execution_count": 169,
   "metadata": {},
   "outputs": [
    {
     "data": {
      "text/plain": [
       "1.4323286305645822"
      ]
     },
     "execution_count": 169,
     "metadata": {},
     "output_type": "execute_result"
    }
   ],
   "source": [
    "gain"
   ]
  },
  {
   "cell_type": "code",
   "execution_count": 170,
   "metadata": {},
   "outputs": [
    {
     "data": {
      "text/plain": [
       "8.54097765342951"
      ]
     },
     "execution_count": 170,
     "metadata": {},
     "output_type": "execute_result"
    }
   ],
   "source": [
    "std"
   ]
  },
  {
   "cell_type": "code",
   "execution_count": null,
   "metadata": {},
   "outputs": [],
   "source": []
  },
  {
   "cell_type": "code",
   "execution_count": null,
   "metadata": {},
   "outputs": [],
   "source": []
  },
  {
   "cell_type": "code",
   "execution_count": null,
   "metadata": {},
   "outputs": [],
   "source": []
  },
  {
   "cell_type": "code",
   "execution_count": null,
   "metadata": {},
   "outputs": [],
   "source": []
  },
  {
   "cell_type": "code",
   "execution_count": null,
   "metadata": {},
   "outputs": [],
   "source": []
  },
  {
   "cell_type": "code",
   "execution_count": null,
   "metadata": {},
   "outputs": [],
   "source": []
  },
  {
   "cell_type": "code",
   "execution_count": null,
   "metadata": {},
   "outputs": [],
   "source": []
  }
 ],
 "metadata": {
  "kernelspec": {
   "display_name": "Python 3",
   "language": "python",
   "name": "python3"
  },
  "language_info": {
   "codemirror_mode": {
    "name": "ipython",
    "version": 3
   },
   "file_extension": ".py",
   "mimetype": "text/x-python",
   "name": "python",
   "nbconvert_exporter": "python",
   "pygments_lexer": "ipython3",
   "version": "3.7.1"
  }
 },
 "nbformat": 4,
 "nbformat_minor": 2
}
