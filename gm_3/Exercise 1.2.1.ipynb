{
 "cells": [
  {
   "cell_type": "code",
   "execution_count": 1,
   "metadata": {},
   "outputs": [],
   "source": [
    "import numpy as np"
   ]
  },
  {
   "cell_type": "code",
   "execution_count": 2,
   "metadata": {},
   "outputs": [],
   "source": [
    "def get_permuted_h(H):\n",
    "    \"\"\" Performs column permutations on the given matrix H such that the\n",
    "    right hand side represents the identiy matrix. \"\"\"\n",
    "    for i in range(0, H.shape[0]):\n",
    "        for j in range(0, H.shape[1]):\n",
    "            tmp = np.array([0] * H.shape[0])\n",
    "            tmp[i] = 1\n",
    "            if np.array_equal(tmp, H[:,j]):\n",
    "                H = swap_columns(H, j, H.shape[1] - H.shape[0] + i)\n",
    "                break\n",
    "    return H\n",
    "\n",
    "def swap_columns(A, i, j):\n",
    "    \"\"\" Swaps the i-th column with the j-th column in matrix A. \"\"\"\n",
    "    a, b = np.array(list(A[:,i])), A[:,j]\n",
    "    A[:,i], A[:,j] = b, a\n",
    "    return A\n",
    "\n",
    "def get_identity_matrix(n):\n",
    "    \"\"\" Returns the n-th identity matrix. \"\"\"\n",
    "    I = np.zeros((n, n), dtype=int)\n",
    "    for i in range(n):\n",
    "        I[i, i] = 1\n",
    "    return I\n",
    "\n",
    "def encode(H):\n",
    "    \"\"\" Given the parity check matrix H, returns H_hat and the encoding matrix G. \"\"\"\n",
    "    N, K = H.shape[1], H.shape[0]\n",
    "    H_hat = get_permuted_h(H)\n",
    "    P = np.transpose(H[:,:N-K])\n",
    "    I = get_identity_matrix(K)\n",
    "    G = np.concatenate((I, P), axis=1)\n",
    "    return H_hat, G"
   ]
  },
  {
   "cell_type": "code",
   "execution_count": 3,
   "metadata": {},
   "outputs": [],
   "source": [
    "H = np.array([\n",
    "    [1, 1, 1, 1, 0, 0],\n",
    "    [0, 0, 1, 1, 0, 1],\n",
    "    [1, 0, 0, 1, 1, 0]\n",
    "])"
   ]
  },
  {
   "cell_type": "code",
   "execution_count": 4,
   "metadata": {},
   "outputs": [],
   "source": [
    "H_hat, G = encode(H)"
   ]
  }
 ],
 "metadata": {
  "kernelspec": {
   "display_name": "Python 3",
   "language": "python",
   "name": "python3"
  },
  "language_info": {
   "codemirror_mode": {
    "name": "ipython",
    "version": 3
   },
   "file_extension": ".py",
   "mimetype": "text/x-python",
   "name": "python",
   "nbconvert_exporter": "python",
   "pygments_lexer": "ipython3",
   "version": "3.7.1"
  }
 },
 "nbformat": 4,
 "nbformat_minor": 2
}
