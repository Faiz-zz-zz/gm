{
 "cells": [
  {
   "cell_type": "code",
   "execution_count": 1,
   "metadata": {},
   "outputs": [],
   "source": [
    "import numpy as np"
   ]
  },
  {
   "cell_type": "code",
   "execution_count": 23,
   "metadata": {},
   "outputs": [],
   "source": [
    "def arrange_h(H):\n",
    "    \"\"\" Given a matrix H, it returns H_hat such that it contains\n",
    "    an identity matrix in the right hand side. \"\"\"\n",
    "    H_hat = np.copy(H)\n",
    "    N, K = H_hat.shape[1], H_hat.shape[0]\n",
    "    for i in range(0, N - K):\n",
    "        # First, ensure that each column of the identity matrix\n",
    "        # contains a 1 at the correct position by adding rows to it\n",
    "        j = 1\n",
    "        while H_hat[i, N - K + i] != 1:\n",
    "            H_hat[i] = np.mod(H_hat[i] + H_hat[np.mod(i + j, K)], 2)\n",
    "            j += 1\n",
    "        # Then add this row to all the others which have a 1 in\n",
    "        # the column such that the only 1 appearing is the correct one\n",
    "        for j in range(0, N - K):\n",
    "            if H_hat[j, N - K + i] == 1 and j != i:\n",
    "                H_hat[j] = np.mod(H_hat[j] + H_hat[i], 2)\n",
    "    return H_hat\n",
    "\n",
    "def get_identity_matrix(n):\n",
    "    \"\"\" Returns the n-th identity matrix. \"\"\"\n",
    "    I = np.zeros((n, n), dtype=int)\n",
    "    for i in range(n):\n",
    "        I[i, i] = 1\n",
    "    return I\n",
    "\n",
    "def encode(H):\n",
    "    \"\"\" Given the parity check matrix H, returns H_hat and the encoding matrix G. \"\"\"\n",
    "    N, K = H.shape[1], H.shape[0]\n",
    "    H_hat = arrange_h(H)\n",
    "    P = np.transpose(H_hat[:,:N-K])\n",
    "    I = get_identity_matrix(K)\n",
    "    G = np.concatenate((I, P), axis=1)\n",
    "    return H_hat, G"
   ]
  },
  {
   "cell_type": "code",
   "execution_count": 24,
   "metadata": {},
   "outputs": [],
   "source": [
    "H = np.array([\n",
    "    [1, 1, 1, 1, 0, 0],\n",
    "    [0, 0, 1, 1, 0, 1],\n",
    "    [1, 0, 0, 1, 1, 0]\n",
    "])"
   ]
  },
  {
   "cell_type": "code",
   "execution_count": 25,
   "metadata": {},
   "outputs": [],
   "source": [
    "H_hat, G = encode(H)"
   ]
  },
  {
   "cell_type": "code",
   "execution_count": 26,
   "metadata": {},
   "outputs": [
    {
     "data": {
      "text/plain": [
       "array([[1, 0, 0, 1, 0, 1],\n",
       "       [0, 1, 0, 1, 1, 1],\n",
       "       [0, 0, 1, 1, 1, 0]])"
      ]
     },
     "execution_count": 26,
     "metadata": {},
     "output_type": "execute_result"
    }
   ],
   "source": [
    "G"
   ]
  },
  {
   "cell_type": "code",
   "execution_count": null,
   "metadata": {},
   "outputs": [],
   "source": []
  }
 ],
 "metadata": {
  "kernelspec": {
   "display_name": "Python 3",
   "language": "python",
   "name": "python3"
  },
  "language_info": {
   "codemirror_mode": {
    "name": "ipython",
    "version": 3
   },
   "file_extension": ".py",
   "mimetype": "text/x-python",
   "name": "python",
   "nbconvert_exporter": "python",
   "pygments_lexer": "ipython3",
   "version": "3.7.1"
  }
 },
 "nbformat": 4,
 "nbformat_minor": 2
}
