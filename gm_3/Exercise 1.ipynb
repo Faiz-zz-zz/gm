{
 "cells": [
  {
   "cell_type": "code",
   "execution_count": 2,
   "metadata": {},
   "outputs": [],
   "source": [
    "import numpy as np"
   ]
  },
  {
   "cell_type": "markdown",
   "metadata": {},
   "source": [
    "### Question 1\n",
    "Write a function that receives a parity check matrix $H$ and builds a systematic encoding matrix $G$ for it. This may require altering $H$ by swapping columns, so the function should return two matrices: $\\hat{H}$ and $G$, such that $\\hat{H}$ is equal to $H$ up to a column permutation and $HGt = 0$ for all $t$ (all the operations are performed in $F2$). Print the outputs of the function for the following matrix:"
   ]
  },
  {
   "cell_type": "code",
   "execution_count": 4,
   "metadata": {},
   "outputs": [],
   "source": [
    "H = np.array([\n",
    "    [1, 1, 1, 1, 0, 0],\n",
    "    [0, 0, 1, 1, 0, 1],\n",
    "    [1, 0, 0, 1, 1, 0]\n",
    "], dtype=int)"
   ]
  },
  {
   "cell_type": "markdown",
   "metadata": {},
   "source": [
    "First, create a function that generates $\\hat{H}$ given $H$; this is achieved through Gaussian elimination."
   ]
  },
  {
   "cell_type": "code",
   "execution_count": 5,
   "metadata": {},
   "outputs": [],
   "source": [
    "def get_H_hat(H):\n",
    "    N, K = H.shape[1], H.shape[1] - H.shape[0]\n",
    "    H_hat = np.copy(H)\n",
    "    for i in range(0, N - K):\n",
    "        j = 1\n",
    "        while H_hat[i, K + i] != 1:\n",
    "            H_hat[i] = np.mod(H_hat[i] + H_hat[np.mod(i + j, N - K)], 2)\n",
    "            j += 1\n",
    "        for j in range(0, N - K):\n",
    "            if H_hat[j, K + i] == 1 and j != i:\n",
    "                H_hat[j] = np.mod(H_hat[j] + H_hat[i], 2)\n",
    "    return H_hat"
   ]
  },
  {
   "cell_type": "markdown",
   "metadata": {},
   "source": [
    "Then create the required function that given the parity-check matrix $H$ it returns the generator matrix $G$ (along with $\\hat{H}$)."
   ]
  },
  {
   "cell_type": "code",
   "execution_count": 6,
   "metadata": {},
   "outputs": [],
   "source": [
    "def get_identity_matrix(n):\n",
    "    I = np.zeros((n, n), dtype=int)\n",
    "    for i in range(n):\n",
    "        I[i, i] = 1\n",
    "    return I\n",
    "\n",
    "def encode(H):\n",
    "    N, K = H.shape[1], H.shape[1] - H.shape[0]\n",
    "    H_hat = get_H_hat(H)\n",
    "    P = np.transpose(H_hat[:,:K])\n",
    "    I = get_identity_matrix(K)\n",
    "    G = np.concatenate((I, P), axis=1)\n",
    "    return H_hat, G"
   ]
  },
  {
   "cell_type": "code",
   "execution_count": 7,
   "metadata": {},
   "outputs": [],
   "source": [
    "H_hat, G = encode(H_1)"
   ]
  },
  {
   "cell_type": "markdown",
   "metadata": {},
   "source": [
    "### Question 3\n",
    "Write an LDPC-decoder based on Loopy Belief Propagation for Binary Symmetric Channel. Specifically, write a function that receives a parity check matrix $\\hat{H}$, a received word $y$, a noise ratio $p$ and an optional parameter of a maximum number of iterations (with default value of $20$). The function should return a decoded vector along with the following return code: $0$ for success, $−1$ if the maximum number of iterations is reached without a successful decoding. Try to make your code efficient. Print the result of the decoding for a given parity check matrix $H_1$ (in H1.txt) and vector $y_1$ (in y1.txt). The noise ratio was $p = 0.1$. How many iterations did your algorithm take to converge?"
   ]
  },
  {
   "cell_type": "markdown",
   "metadata": {},
   "source": [
    "Let us load the supplied parity-check matrix $H_1$ and received message $y_1$."
   ]
  },
  {
   "cell_type": "code",
   "execution_count": 3,
   "metadata": {},
   "outputs": [],
   "source": [
    "H_1 = np.loadtxt('H1.txt', dtype=int)\n",
    "y_1 = np.loadtxt('y1.txt', dtype=int)"
   ]
  },
  {
   "cell_type": "markdown",
   "metadata": {},
   "source": [
    "Let us create a function that checks the validity of a message against a parity-check matrix."
   ]
  },
  {
   "cell_type": "code",
   "execution_count": 8,
   "metadata": {},
   "outputs": [],
   "source": [
    "def is_valid(m, H):\n",
    "    return np.sum(np.mod(H @ m, 2)) == 0"
   ]
  },
  {
   "cell_type": "markdown",
   "metadata": {},
   "source": [
    "The following cell contains the initialisation part of the decoding algorithm (as described by D. J. C. MacKay)"
   ]
  },
  {
   "cell_type": "code",
   "execution_count": 122,
   "metadata": {},
   "outputs": [],
   "source": [
    "def initialise(y, H, p=0.1):\n",
    "    \"\"\" Returns the quantities q^{x}_{mn}, describing the probability\n",
    "    of bit n of message y being equal to x based on check m.\n",
    "    \n",
    "    :param y: the message (signal) as a vector of size (n)\n",
    "    :param H: the parity-check matrix of size (m, n)\n",
    "    :param p: the level of noise (between 0 and 1)\n",
    "    \n",
    "    :return: a tensor indexed as (m, n, x) for the quantities q \"\"\"\n",
    "    Q = np.zeros((*H.shape, 2))\n",
    "    for m in range(H.shape[0]):\n",
    "        for n in range(H.shape[1]):\n",
    "            if H[m, n] == 1:\n",
    "                for k in [0, 1]:\n",
    "                    Q[m, n, k] = 1 - p if y[n] == k else p\n",
    "    return Q"
   ]
  },
  {
   "cell_type": "markdown",
   "metadata": {},
   "source": [
    "The following cell contains the horizontal and vertical steps, representing the message passing steps between variables and factors."
   ]
  },
  {
   "cell_type": "code",
   "execution_count": null,
   "metadata": {},
   "outputs": [],
   "source": [
    "def horizontal(H, Q, p=0.1):\n",
    "    R = np.zeros((*H.shape, 2))\n",
    "    for m in range(H.shape[0]):\n",
    "        for n in range(H.shape[1]):\n",
    "            if H[m, n] == 1:\n",
    "                delta = 1\n",
    "                for n_p in range(H.shape[1]):\n",
    "                    if H[m, n_p] == 1 and n != n_p:\n",
    "                        delta *= Q[m, n_p, 0] - Q[m, n_p, 1]\n",
    "                R[m, n, 0] = 1 + delta\n",
    "                R[m, n, 1] = 1 - delta\n",
    "    return R\n",
    "\n",
    "\n",
    "def vertical(H, Q, R, y, p=0.1):\n",
    "    for m in range(Q.shape[0]):\n",
    "        for n in range(Q.shape[1]):\n",
    "            if H[m, n] == 1:\n",
    "                for k in [0, 1]:\n",
    "                    Q[m, n, k] = 1 - p if y[n] == k else p\n",
    "                    for m_p in range(Q.shape[0]):\n",
    "                        if H[m_p, n] == 1:\n",
    "                            if m != m_p:\n",
    "                                Q[m, n, k] *= R[m_p, n, k]\n",
    "                k = Q[m, n, 0] + Q[m, n, 1]\n",
    "                Q[m, n, 0] /= k\n",
    "                Q[m, n, 1] /= k\n",
    "    return Q  \n",
    "\n",
    "\n",
    "def estimate(H, Q, R, y, p=0.1):\n",
    "    x = np.zeros((*y.shape, 2))\n",
    "    z = np.zeros((*y.shape))\n",
    "    for n in range(Q.shape[1]):\n",
    "        for k in [0, 1]:\n",
    "            x[n, k] = 1 - p if y[n] == k else p\n",
    "            for m in range(Q.shape[0]):\n",
    "                if H[m, n] == 1:\n",
    "                    x[n, k] *= R[m, n, k]\n",
    "        z[n] = 0 if x[n, 0] > x[n, 1] else 1\n",
    "    return z\n",
    "\n",
    "\n",
    "def decode(y, H, maximum_iterations=20, p=0.1):\n",
    "    Q = initialise(y_1, H_1)\n",
    "    iterations = 0\n",
    "    while iterations < maximum_iterations:\n",
    "        R = horizontal(H, Q)\n",
    "        Q = vertical(H, Q, R, y)\n",
    "        x = estimate(H, Q, R, y)\n",
    "        if is_valid(x, H_hat):\n",
    "            return x\n",
    "        iterations += 1\n",
    "    \n",
    "    \n",
    "x = decode(y_1, H_1)"
   ]
  },
  {
   "cell_type": "code",
   "execution_count": 123,
   "metadata": {},
   "outputs": [],
   "source": [
    "def extract(x):\n",
    "    message = \"\"\n",
    "    for i in range(0, 31):\n",
    "        character = \"\"\n",
    "        for j in range(0, 8):\n",
    "            character += str(int(x[i * 8 + j]))\n",
    "        character_number = int(character, 2)\n",
    "        message += chr(character_number)\n",
    "    return ''.join(message)"
   ]
  },
  {
   "cell_type": "code",
   "execution_count": 124,
   "metadata": {},
   "outputs": [
    {
     "data": {
      "text/plain": [
       "'Happy Holidays! Dmitry&David :)'"
      ]
     },
     "execution_count": 124,
     "metadata": {},
     "output_type": "execute_result"
    }
   ],
   "source": [
    "extract(x)"
   ]
  },
  {
   "cell_type": "code",
   "execution_count": null,
   "metadata": {},
   "outputs": [],
   "source": []
  },
  {
   "cell_type": "code",
   "execution_count": null,
   "metadata": {},
   "outputs": [],
   "source": []
  },
  {
   "cell_type": "code",
   "execution_count": null,
   "metadata": {},
   "outputs": [],
   "source": []
  },
  {
   "cell_type": "code",
   "execution_count": null,
   "metadata": {},
   "outputs": [],
   "source": []
  },
  {
   "cell_type": "code",
   "execution_count": null,
   "metadata": {},
   "outputs": [],
   "source": []
  },
  {
   "cell_type": "code",
   "execution_count": null,
   "metadata": {},
   "outputs": [],
   "source": []
  },
  {
   "cell_type": "code",
   "execution_count": null,
   "metadata": {},
   "outputs": [],
   "source": []
  },
  {
   "cell_type": "code",
   "execution_count": null,
   "metadata": {},
   "outputs": [],
   "source": []
  },
  {
   "cell_type": "code",
   "execution_count": null,
   "metadata": {},
   "outputs": [],
   "source": []
  },
  {
   "cell_type": "code",
   "execution_count": null,
   "metadata": {},
   "outputs": [],
   "source": []
  },
  {
   "cell_type": "code",
   "execution_count": null,
   "metadata": {},
   "outputs": [],
   "source": []
  },
  {
   "cell_type": "code",
   "execution_count": null,
   "metadata": {},
   "outputs": [],
   "source": []
  },
  {
   "cell_type": "code",
   "execution_count": null,
   "metadata": {},
   "outputs": [],
   "source": []
  }
 ],
 "metadata": {
  "kernelspec": {
   "display_name": "Python 3",
   "language": "python",
   "name": "python3"
  },
  "language_info": {
   "codemirror_mode": {
    "name": "ipython",
    "version": 3
   },
   "file_extension": ".py",
   "mimetype": "text/x-python",
   "name": "python",
   "nbconvert_exporter": "python",
   "pygments_lexer": "ipython3",
   "version": "3.7.1"
  }
 },
 "nbformat": 4,
 "nbformat_minor": 2
}
