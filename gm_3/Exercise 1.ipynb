{
 "cells": [
  {
   "cell_type": "code",
   "execution_count": 1,
   "metadata": {},
   "outputs": [],
   "source": [
    "import numpy as np"
   ]
  },
  {
   "cell_type": "code",
   "execution_count": 144,
   "metadata": {},
   "outputs": [],
   "source": [
    "H_1 = np.loadtxt('H1.txt', dtype=int)\n",
    "y_1 = np.loadtxt('y1.txt', dtype=int)"
   ]
  },
  {
   "cell_type": "markdown",
   "metadata": {},
   "source": [
    "### Question 1\n",
    "Write a function that receives a parity check matrix $H$ and builds a systematic encoding matrix $G$ for it. This may require altering $H$ by swapping columns, so the function should return two matrices: $\\hat{H}$ and $G$, such that $\\hat{H}$ is equal to $H$ up to a column permutation and $HGt = 0$ for all $t$ (all the operations are performed in $F2$). Print the outputs of the function for the following matrix:"
   ]
  },
  {
   "cell_type": "code",
   "execution_count": 56,
   "metadata": {},
   "outputs": [],
   "source": [
    "H = np.array([\n",
    "    [1, 1, 1, 1, 0, 0],\n",
    "    [0, 0, 1, 1, 0, 1],\n",
    "    [1, 0, 0, 1, 1, 0]\n",
    "], dtype=int)"
   ]
  },
  {
   "cell_type": "markdown",
   "metadata": {},
   "source": [
    "First, create a function that generates $\\hat{H}$ given $H$; this is achieved through Gaussian elimination."
   ]
  },
  {
   "cell_type": "code",
   "execution_count": 127,
   "metadata": {},
   "outputs": [],
   "source": [
    "def get_H_hat(H):\n",
    "    N, K = H.shape[1], H.shape[1] - H.shape[0]\n",
    "    H_hat = np.copy(H)\n",
    "    for i in range(0, N - K):\n",
    "        j = 1\n",
    "        while H_hat[i, K + i] != 1:\n",
    "            H_hat[i] = np.mod(H_hat[i] + H_hat[np.mod(i + j, N - K)], 2)\n",
    "            j += 1\n",
    "        for j in range(0, N - K):\n",
    "            if H_hat[j, K + i] == 1 and j != i:\n",
    "                H_hat[j] = np.mod(H_hat[j] + H_hat[i], 2)\n",
    "    return H_hat"
   ]
  },
  {
   "cell_type": "markdown",
   "metadata": {},
   "source": [
    "Then create the required function that given the parity-check matrix $H$ it returns the generator matrix $G$ (along with $\\hat{H}$)."
   ]
  },
  {
   "cell_type": "code",
   "execution_count": 128,
   "metadata": {},
   "outputs": [],
   "source": [
    "def get_identity_matrix(n):\n",
    "    I = np.zeros((n, n), dtype=int)\n",
    "    for i in range(n):\n",
    "        I[i, i] = 1\n",
    "    return I\n",
    "\n",
    "def encode(H):\n",
    "    N, K = H.shape[1], H.shape[1] - H.shape[0]\n",
    "    H_hat = get_H_hat(H)\n",
    "    P = np.transpose(H_hat[:,:K])\n",
    "    I = get_identity_matrix(K)\n",
    "    G = np.concatenate((I, P), axis=1)\n",
    "    return H_hat, G"
   ]
  },
  {
   "cell_type": "code",
   "execution_count": 151,
   "metadata": {},
   "outputs": [],
   "source": [
    "H_hat, G = encode(H_1)"
   ]
  },
  {
   "cell_type": "markdown",
   "metadata": {},
   "source": [
    "### Question 3\n",
    "Write an LDPC-decoder based on Loopy Belief Propagation for Binary Symmetric Channel. Specifically, write a function that receives a parity check matrix $\\hat{H}$, a received word $y$, a noise ratio $p$ and an optional parameter of a maximum number of iterations (with default value of $20$). The function should return a decoded vector along with the following return code: $0$ for success, $−1$ if the maximum number of iterations is reached without a successful decoding. Try to make your code efficient. Print the result of the decoding for a given parity check matrix $H_1$ (in H1.txt) and vector $y_1$ (in y1.txt). The noise ratio was $p = 0.1$. How many iterations did your algorithm take to converge?"
   ]
  },
  {
   "cell_type": "markdown",
   "metadata": {},
   "source": [
    "Let us create a function that checks the validity of a message against a parity-check matrix."
   ]
  },
  {
   "cell_type": "code",
   "execution_count": 161,
   "metadata": {},
   "outputs": [],
   "source": [
    "def is_valid(m, H):\n",
    "    return np.sum(np.mod(H @ m, 2)) == 0"
   ]
  },
  {
   "cell_type": "code",
   "execution_count": 162,
   "metadata": {},
   "outputs": [],
   "source": [
    "def p_y_given_x(x, y, p):\n",
    "    \"\"\" Returns the probability of the original message being x given the observed x. \"\"\"\n",
    "    probability = 1\n",
    "    for n in range(0, len(x)):\n",
    "        probability *= (p ** (x[n] - y[n])) * ((1 - p) ** (x[n] - y[n] + 1))\n",
    "        \n",
    "\n",
    "def decode(H_hat, y, p, maximum_iterations=20):\n",
    "    pass"
   ]
  },
  {
   "cell_type": "code",
   "execution_count": null,
   "metadata": {},
   "outputs": [],
   "source": []
  }
 ],
 "metadata": {
  "kernelspec": {
   "display_name": "Python 3",
   "language": "python",
   "name": "python3"
  },
  "language_info": {
   "codemirror_mode": {
    "name": "ipython",
    "version": 3
   },
   "file_extension": ".py",
   "mimetype": "text/x-python",
   "name": "python",
   "nbconvert_exporter": "python",
   "pygments_lexer": "ipython3",
   "version": "3.7.1"
  }
 },
 "nbformat": 4,
 "nbformat_minor": 2
}
